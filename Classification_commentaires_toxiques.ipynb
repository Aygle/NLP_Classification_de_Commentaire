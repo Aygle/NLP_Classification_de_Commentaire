{
  "nbformat": 4,
  "nbformat_minor": 0,
  "metadata": {
    "colab": {
      "name": "Classification_commentaires_toxiques.ipynb",
      "provenance": [],
      "collapsed_sections": [
        "_lyJzHuKRNWX",
        "V1xflPt8rbbr",
        "MYn4Js4TtSvV"
      ],
      "include_colab_link": true
    },
    "kernelspec": {
      "name": "python3",
      "display_name": "Python 3"
    },
    "language_info": {
      "name": "python"
    },
    "accelerator": "GPU"
  },
  "cells": [
    {
      "cell_type": "markdown",
      "metadata": {
        "id": "view-in-github",
        "colab_type": "text"
      },
      "source": [
        "<a href=\"https://colab.research.google.com/github/Aygle/NLP_Classification_de_Commentaire/blob/main/Classification_commentaires_toxiques.ipynb\" target=\"_parent\"><img src=\"https://colab.research.google.com/assets/colab-badge.svg\" alt=\"Open In Colab\"/></a>"
      ]
    },
    {
      "cell_type": "markdown",
      "source": [
        "# Importation des packages"
      ],
      "metadata": {
        "id": "_lyJzHuKRNWX"
      }
    },
    {
      "cell_type": "code",
      "execution_count": null,
      "metadata": {
        "id": "MUj96QiIQsJ_"
      },
      "outputs": [],
      "source": [
        "import numpy as np\n",
        "import pandas as pd\n",
        "import matplotlib.pyplot as plt\n",
        "import tensorflow as tf\n",
        "\n",
        "# Import Regex to clean up comments\n",
        "import re\n",
        "\n",
        "import nltk, string\n",
        "from nltk.corpus import stopwords\n",
        "\n",
        "from sklearn import model_selection\n",
        "from sklearn import metrics\n",
        "from sklearn.model_selection import train_test_split\n",
        "\n",
        "from tensorflow.keras.preprocessing.text import Tokenizer\n",
        "from tensorflow.keras.layers import GRU, Dense, Embedding\n",
        "from tensorflow.keras import Sequential\n",
        "from tensorflow.keras.losses import BinaryCrossentropy\n",
        "from tensorflow.keras.optimizers import Adam\n",
        "from tensorflow.keras.preprocessing.sequence import pad_sequences"
      ]
    },
    {
      "cell_type": "markdown",
      "source": [
        "# Importation des données"
      ],
      "metadata": {
        "id": "xZLpUMItRWc0"
      }
    },
    {
      "cell_type": "markdown",
      "source": [
        "Ajoutez un raccourci de ce dossier à votre google drive :\n",
        "\n",
        "https://drive.google.com/drive/folders/1mx-CAzT10YKrmxHfYDP_1Oef7PVGUr7s?usp=sharing"
      ],
      "metadata": {
        "id": "cbE3MzVKRaV2"
      }
    },
    {
      "cell_type": "code",
      "source": [
        "from google.colab import drive\n",
        "drive.mount('/content/drive', force_remount=True)"
      ],
      "metadata": {
        "colab": {
          "base_uri": "https://localhost:8080/"
        },
        "id": "4FktfCVaRVrs",
        "outputId": "165ee31d-2cf4-4fc3-fd71-1729017fa270"
      },
      "execution_count": null,
      "outputs": [
        {
          "output_type": "stream",
          "name": "stdout",
          "text": [
            "Mounted at /content/drive\n"
          ]
        }
      ]
    },
    {
      "cell_type": "code",
      "source": [
        "data = pd.read_csv('/content/drive/MyDrive/data_classification_commentaires_toxiques/train.csv')\n",
        "data.head(10)"
      ],
      "metadata": {
        "colab": {
          "base_uri": "https://localhost:8080/",
          "height": 363
        },
        "id": "qky64Lq8Rocy",
        "outputId": "fa9f8b2e-a3d7-4d4a-ebb0-4fb5fb78c775"
      },
      "execution_count": null,
      "outputs": [
        {
          "output_type": "execute_result",
          "data": {
            "text/plain": [
              "                 id                                       comment_text  toxic  \\\n",
              "0  0000997932d777bf  Explanation\\nWhy the edits made under my usern...      0   \n",
              "1  000103f0d9cfb60f  D'aww! He matches this background colour I'm s...      0   \n",
              "2  000113f07ec002fd  Hey man, I'm really not trying to edit war. It...      0   \n",
              "3  0001b41b1c6bb37e  \"\\nMore\\nI can't make any real suggestions on ...      0   \n",
              "4  0001d958c54c6e35  You, sir, are my hero. Any chance you remember...      0   \n",
              "5  00025465d4725e87  \"\\n\\nCongratulations from me as well, use the ...      0   \n",
              "6  0002bcb3da6cb337       COCKSUCKER BEFORE YOU PISS AROUND ON MY WORK      1   \n",
              "7  00031b1e95af7921  Your vandalism to the Matt Shirvington article...      0   \n",
              "8  00037261f536c51d  Sorry if the word 'nonsense' was offensive to ...      0   \n",
              "9  00040093b2687caa  alignment on this subject and which are contra...      0   \n",
              "\n",
              "   severe_toxic  obscene  threat  insult  identity_hate  \n",
              "0             0        0       0       0              0  \n",
              "1             0        0       0       0              0  \n",
              "2             0        0       0       0              0  \n",
              "3             0        0       0       0              0  \n",
              "4             0        0       0       0              0  \n",
              "5             0        0       0       0              0  \n",
              "6             1        1       0       1              0  \n",
              "7             0        0       0       0              0  \n",
              "8             0        0       0       0              0  \n",
              "9             0        0       0       0              0  "
            ],
            "text/html": [
              "\n",
              "  <div id=\"df-cadf524a-e7e1-46b0-aafe-40f0d6f00b65\">\n",
              "    <div class=\"colab-df-container\">\n",
              "      <div>\n",
              "<style scoped>\n",
              "    .dataframe tbody tr th:only-of-type {\n",
              "        vertical-align: middle;\n",
              "    }\n",
              "\n",
              "    .dataframe tbody tr th {\n",
              "        vertical-align: top;\n",
              "    }\n",
              "\n",
              "    .dataframe thead th {\n",
              "        text-align: right;\n",
              "    }\n",
              "</style>\n",
              "<table border=\"1\" class=\"dataframe\">\n",
              "  <thead>\n",
              "    <tr style=\"text-align: right;\">\n",
              "      <th></th>\n",
              "      <th>id</th>\n",
              "      <th>comment_text</th>\n",
              "      <th>toxic</th>\n",
              "      <th>severe_toxic</th>\n",
              "      <th>obscene</th>\n",
              "      <th>threat</th>\n",
              "      <th>insult</th>\n",
              "      <th>identity_hate</th>\n",
              "    </tr>\n",
              "  </thead>\n",
              "  <tbody>\n",
              "    <tr>\n",
              "      <th>0</th>\n",
              "      <td>0000997932d777bf</td>\n",
              "      <td>Explanation\\nWhy the edits made under my usern...</td>\n",
              "      <td>0</td>\n",
              "      <td>0</td>\n",
              "      <td>0</td>\n",
              "      <td>0</td>\n",
              "      <td>0</td>\n",
              "      <td>0</td>\n",
              "    </tr>\n",
              "    <tr>\n",
              "      <th>1</th>\n",
              "      <td>000103f0d9cfb60f</td>\n",
              "      <td>D'aww! He matches this background colour I'm s...</td>\n",
              "      <td>0</td>\n",
              "      <td>0</td>\n",
              "      <td>0</td>\n",
              "      <td>0</td>\n",
              "      <td>0</td>\n",
              "      <td>0</td>\n",
              "    </tr>\n",
              "    <tr>\n",
              "      <th>2</th>\n",
              "      <td>000113f07ec002fd</td>\n",
              "      <td>Hey man, I'm really not trying to edit war. It...</td>\n",
              "      <td>0</td>\n",
              "      <td>0</td>\n",
              "      <td>0</td>\n",
              "      <td>0</td>\n",
              "      <td>0</td>\n",
              "      <td>0</td>\n",
              "    </tr>\n",
              "    <tr>\n",
              "      <th>3</th>\n",
              "      <td>0001b41b1c6bb37e</td>\n",
              "      <td>\"\\nMore\\nI can't make any real suggestions on ...</td>\n",
              "      <td>0</td>\n",
              "      <td>0</td>\n",
              "      <td>0</td>\n",
              "      <td>0</td>\n",
              "      <td>0</td>\n",
              "      <td>0</td>\n",
              "    </tr>\n",
              "    <tr>\n",
              "      <th>4</th>\n",
              "      <td>0001d958c54c6e35</td>\n",
              "      <td>You, sir, are my hero. Any chance you remember...</td>\n",
              "      <td>0</td>\n",
              "      <td>0</td>\n",
              "      <td>0</td>\n",
              "      <td>0</td>\n",
              "      <td>0</td>\n",
              "      <td>0</td>\n",
              "    </tr>\n",
              "    <tr>\n",
              "      <th>5</th>\n",
              "      <td>00025465d4725e87</td>\n",
              "      <td>\"\\n\\nCongratulations from me as well, use the ...</td>\n",
              "      <td>0</td>\n",
              "      <td>0</td>\n",
              "      <td>0</td>\n",
              "      <td>0</td>\n",
              "      <td>0</td>\n",
              "      <td>0</td>\n",
              "    </tr>\n",
              "    <tr>\n",
              "      <th>6</th>\n",
              "      <td>0002bcb3da6cb337</td>\n",
              "      <td>COCKSUCKER BEFORE YOU PISS AROUND ON MY WORK</td>\n",
              "      <td>1</td>\n",
              "      <td>1</td>\n",
              "      <td>1</td>\n",
              "      <td>0</td>\n",
              "      <td>1</td>\n",
              "      <td>0</td>\n",
              "    </tr>\n",
              "    <tr>\n",
              "      <th>7</th>\n",
              "      <td>00031b1e95af7921</td>\n",
              "      <td>Your vandalism to the Matt Shirvington article...</td>\n",
              "      <td>0</td>\n",
              "      <td>0</td>\n",
              "      <td>0</td>\n",
              "      <td>0</td>\n",
              "      <td>0</td>\n",
              "      <td>0</td>\n",
              "    </tr>\n",
              "    <tr>\n",
              "      <th>8</th>\n",
              "      <td>00037261f536c51d</td>\n",
              "      <td>Sorry if the word 'nonsense' was offensive to ...</td>\n",
              "      <td>0</td>\n",
              "      <td>0</td>\n",
              "      <td>0</td>\n",
              "      <td>0</td>\n",
              "      <td>0</td>\n",
              "      <td>0</td>\n",
              "    </tr>\n",
              "    <tr>\n",
              "      <th>9</th>\n",
              "      <td>00040093b2687caa</td>\n",
              "      <td>alignment on this subject and which are contra...</td>\n",
              "      <td>0</td>\n",
              "      <td>0</td>\n",
              "      <td>0</td>\n",
              "      <td>0</td>\n",
              "      <td>0</td>\n",
              "      <td>0</td>\n",
              "    </tr>\n",
              "  </tbody>\n",
              "</table>\n",
              "</div>\n",
              "      <button class=\"colab-df-convert\" onclick=\"convertToInteractive('df-cadf524a-e7e1-46b0-aafe-40f0d6f00b65')\"\n",
              "              title=\"Convert this dataframe to an interactive table.\"\n",
              "              style=\"display:none;\">\n",
              "        \n",
              "  <svg xmlns=\"http://www.w3.org/2000/svg\" height=\"24px\"viewBox=\"0 0 24 24\"\n",
              "       width=\"24px\">\n",
              "    <path d=\"M0 0h24v24H0V0z\" fill=\"none\"/>\n",
              "    <path d=\"M18.56 5.44l.94 2.06.94-2.06 2.06-.94-2.06-.94-.94-2.06-.94 2.06-2.06.94zm-11 1L8.5 8.5l.94-2.06 2.06-.94-2.06-.94L8.5 2.5l-.94 2.06-2.06.94zm10 10l.94 2.06.94-2.06 2.06-.94-2.06-.94-.94-2.06-.94 2.06-2.06.94z\"/><path d=\"M17.41 7.96l-1.37-1.37c-.4-.4-.92-.59-1.43-.59-.52 0-1.04.2-1.43.59L10.3 9.45l-7.72 7.72c-.78.78-.78 2.05 0 2.83L4 21.41c.39.39.9.59 1.41.59.51 0 1.02-.2 1.41-.59l7.78-7.78 2.81-2.81c.8-.78.8-2.07 0-2.86zM5.41 20L4 18.59l7.72-7.72 1.47 1.35L5.41 20z\"/>\n",
              "  </svg>\n",
              "      </button>\n",
              "      \n",
              "  <style>\n",
              "    .colab-df-container {\n",
              "      display:flex;\n",
              "      flex-wrap:wrap;\n",
              "      gap: 12px;\n",
              "    }\n",
              "\n",
              "    .colab-df-convert {\n",
              "      background-color: #E8F0FE;\n",
              "      border: none;\n",
              "      border-radius: 50%;\n",
              "      cursor: pointer;\n",
              "      display: none;\n",
              "      fill: #1967D2;\n",
              "      height: 32px;\n",
              "      padding: 0 0 0 0;\n",
              "      width: 32px;\n",
              "    }\n",
              "\n",
              "    .colab-df-convert:hover {\n",
              "      background-color: #E2EBFA;\n",
              "      box-shadow: 0px 1px 2px rgba(60, 64, 67, 0.3), 0px 1px 3px 1px rgba(60, 64, 67, 0.15);\n",
              "      fill: #174EA6;\n",
              "    }\n",
              "\n",
              "    [theme=dark] .colab-df-convert {\n",
              "      background-color: #3B4455;\n",
              "      fill: #D2E3FC;\n",
              "    }\n",
              "\n",
              "    [theme=dark] .colab-df-convert:hover {\n",
              "      background-color: #434B5C;\n",
              "      box-shadow: 0px 1px 3px 1px rgba(0, 0, 0, 0.15);\n",
              "      filter: drop-shadow(0px 1px 2px rgba(0, 0, 0, 0.3));\n",
              "      fill: #FFFFFF;\n",
              "    }\n",
              "  </style>\n",
              "\n",
              "      <script>\n",
              "        const buttonEl =\n",
              "          document.querySelector('#df-cadf524a-e7e1-46b0-aafe-40f0d6f00b65 button.colab-df-convert');\n",
              "        buttonEl.style.display =\n",
              "          google.colab.kernel.accessAllowed ? 'block' : 'none';\n",
              "\n",
              "        async function convertToInteractive(key) {\n",
              "          const element = document.querySelector('#df-cadf524a-e7e1-46b0-aafe-40f0d6f00b65');\n",
              "          const dataTable =\n",
              "            await google.colab.kernel.invokeFunction('convertToInteractive',\n",
              "                                                     [key], {});\n",
              "          if (!dataTable) return;\n",
              "\n",
              "          const docLinkHtml = 'Like what you see? Visit the ' +\n",
              "            '<a target=\"_blank\" href=https://colab.research.google.com/notebooks/data_table.ipynb>data table notebook</a>'\n",
              "            + ' to learn more about interactive tables.';\n",
              "          element.innerHTML = '';\n",
              "          dataTable['output_type'] = 'display_data';\n",
              "          await google.colab.output.renderOutput(dataTable, element);\n",
              "          const docLink = document.createElement('div');\n",
              "          docLink.innerHTML = docLinkHtml;\n",
              "          element.appendChild(docLink);\n",
              "        }\n",
              "      </script>\n",
              "    </div>\n",
              "  </div>\n",
              "  "
            ]
          },
          "metadata": {},
          "execution_count": 74
        }
      ]
    },
    {
      "cell_type": "code",
      "source": [
        "full_data_size = len(data)\n",
        "full_data_size"
      ],
      "metadata": {
        "colab": {
          "base_uri": "https://localhost:8080/"
        },
        "id": "XL-ZlnmrgaTR",
        "outputId": "41879248-c96f-45d2-ff6c-46e4e56317b9"
      },
      "execution_count": null,
      "outputs": [
        {
          "output_type": "execute_result",
          "data": {
            "text/plain": [
              "159571"
            ]
          },
          "metadata": {},
          "execution_count": 75
        }
      ]
    },
    {
      "cell_type": "markdown",
      "source": [
        "Reduction d'élément au hasard du dataset (pour faciliter le fit du modèle)\n",
        "\n",
        "\n"
      ],
      "metadata": {
        "id": "HrOI4cQXMnJw"
      }
    },
    {
      "cell_type": "code",
      "source": [
        "data_size = int(len(data)*0.25)\n",
        "data_size"
      ],
      "metadata": {
        "id": "fxV7MvQuMB78",
        "colab": {
          "base_uri": "https://localhost:8080/"
        },
        "outputId": "4768b106-c6d8-49d8-cfc5-cb5bd6f6f156"
      },
      "execution_count": null,
      "outputs": [
        {
          "output_type": "execute_result",
          "data": {
            "text/plain": [
              "7978"
            ]
          },
          "metadata": {},
          "execution_count": 76
        }
      ]
    },
    {
      "cell_type": "code",
      "source": [
        "remove_n_rows = len(data) - data_size\n",
        "drop_indices = np.random.choice(data.index, remove_n_rows, replace=False)\n",
        "data = data.drop(drop_indices)\n",
        "print(\"La nouvelle taille du dataset est de : {} \\nAu lieu de : {} \".format(len(data), full_data_size))"
      ],
      "metadata": {
        "id": "w7w8fbpIMl3x",
        "colab": {
          "base_uri": "https://localhost:8080/"
        },
        "outputId": "4904f914-4321-4875-b915-15e23957dbf0"
      },
      "execution_count": null,
      "outputs": [
        {
          "output_type": "stream",
          "name": "stdout",
          "text": [
            "La nouvelle taille du dataset est de : 7978 \n",
            "Au lieu de : 159571 \n"
          ]
        }
      ]
    },
    {
      "cell_type": "markdown",
      "source": [
        "# Etude du jeu de données"
      ],
      "metadata": {
        "id": "-kUWzBzISpsK"
      }
    },
    {
      "cell_type": "markdown",
      "source": [
        "Il n'y a pas de valeur undefine"
      ],
      "metadata": {
        "id": "ihkT5ixw-nng"
      }
    },
    {
      "cell_type": "code",
      "source": [
        "data.isnull().sum()"
      ],
      "metadata": {
        "colab": {
          "base_uri": "https://localhost:8080/"
        },
        "id": "FSpDkn6E9SbT",
        "outputId": "31f7885c-7ccd-4121-dd15-b8f9a7aec72b"
      },
      "execution_count": null,
      "outputs": [
        {
          "output_type": "execute_result",
          "data": {
            "text/plain": [
              "id               0\n",
              "comment_text     0\n",
              "toxic            0\n",
              "severe_toxic     0\n",
              "obscene          0\n",
              "threat           0\n",
              "insult           0\n",
              "identity_hate    0\n",
              "dtype: int64"
            ]
          },
          "metadata": {},
          "execution_count": 78
        }
      ]
    },
    {
      "cell_type": "code",
      "source": [
        "max_length = data['comment_text'].apply(lambda x : len(x.split())).max()\n",
        "print(\"Taille du commentaire le plus long : {}\".format(max_length))\n",
        "\n",
        "# en triant tous les commentaire, on deduit le plus long \n",
        "# data.sort_values(by=\"comment_text\", key=lambda x: x.str.len(),ascending=False)"
      ],
      "metadata": {
        "id": "CAexGL7jS-VF",
        "colab": {
          "base_uri": "https://localhost:8080/"
        },
        "outputId": "831dac5b-a555-4be1-fcbe-59e88988cdcd"
      },
      "execution_count": null,
      "outputs": [
        {
          "output_type": "stream",
          "name": "stdout",
          "text": [
            "Taille du commentaire le plus long : 982\n"
          ]
        }
      ]
    },
    {
      "cell_type": "code",
      "source": [
        "average_size = int(data['comment_text'].apply(lambda x : len(x.split())).mean())\n",
        "print(\"Taille Moyenne d'un commentaire : {} \".format(average_size))"
      ],
      "metadata": {
        "id": "SnDIV_9eEf0R",
        "colab": {
          "base_uri": "https://localhost:8080/"
        },
        "outputId": "71bb3c1d-451a-4bd5-b9f0-115537cac2f5"
      },
      "execution_count": null,
      "outputs": [
        {
          "output_type": "stream",
          "name": "stdout",
          "text": [
            "Taille Moyenne d'un commentaire : 67 \n"
          ]
        }
      ]
    },
    {
      "cell_type": "code",
      "source": [
        "fig = plt.figure(figsize=(10, 8))\n",
        "for i in range(6):\n",
        "    fig.add_subplot(2, 3, i+1)\n",
        "    data.iloc[:,i + 2].value_counts(normalize=True).plot(kind='bar')\n",
        "    plt.xlabel(data.iloc[:,i + 2].name, labelpad=14)\n",
        "    plt.ylabel(\"Répartition en % \", labelpad=14)"
      ],
      "metadata": {
        "id": "wWaMHM6cLLPY",
        "colab": {
          "base_uri": "https://localhost:8080/",
          "height": 504
        },
        "outputId": "bd7a056a-b2cd-4f57-a3b9-b7573e33f896"
      },
      "execution_count": null,
      "outputs": [
        {
          "output_type": "display_data",
          "data": {
            "text/plain": [
              "<Figure size 720x576 with 6 Axes>"
            ],
            "image/png": "[encoded data removed]"
          },
          "metadata": {
            "needs_background": "light"
          }
        }
      ]
    },
    {
      "cell_type": "code",
      "source": [
        "comments = data.drop(['id','comment_text'],axis = 1)\n",
        "for i in comments.columns :\n",
        "    print(\"Percent of {0}s: \".format(i), round(100*comments[i].mean(),2), \"%\")"
      ],
      "metadata": {
        "colab": {
          "base_uri": "https://localhost:8080/"
        },
        "id": "SeGuzdgC9_5M",
        "outputId": "1b6cf7dc-43ba-4c49-a5c7-647148ac9fa6"
      },
      "execution_count": null,
      "outputs": [
        {
          "output_type": "stream",
          "name": "stdout",
          "text": [
            "Percent of toxics:  9.34 %\n",
            "Percent of severe_toxics:  0.92 %\n",
            "Percent of obscenes:  5.33 %\n",
            "Percent of threats:  0.3 %\n",
            "Percent of insults:  5.03 %\n",
            "Percent of identity_hates:  0.76 %\n"
          ]
        }
      ]
    },
    {
      "cell_type": "code",
      "source": [
        "from wordcloud import WordCloud\n",
        "import nltk\n",
        "nltk.download('stopwords')\n",
        "wordcloud = WordCloud(stopwords=stopwords.words('english'),max_words=50).generate(str(data.comment_text))\n",
        "plt.figure(figsize=(10,6))\n",
        "plt.imshow(wordcloud)\n",
        "plt.axis('off')\n",
        "plt.show()"
      ],
      "metadata": {
        "colab": {
          "base_uri": "https://localhost:8080/",
          "height": 345
        },
        "id": "HuyM7SqzIptF",
        "outputId": "a73e6e8b-77c4-48f5-d45b-a9cda42245d1"
      },
      "execution_count": null,
      "outputs": [
        {
          "output_type": "stream",
          "name": "stdout",
          "text": [
            "[nltk_data] Downloading package stopwords to /root/nltk_data...\n",
            "[nltk_data]   Package stopwords is already up-to-date!\n"
          ]
        },
        {
          "output_type": "display_data",
          "data": {
            "text/plain": [
              "<Figure size 720x432 with 1 Axes>"
            ],
            "image/png": "[encoded data removed]"
          },
          "metadata": {
            "needs_background": "light"
          }
        }
      ]
    },
    {
      "cell_type": "markdown",
      "source": [
        "# Préparation des données"
      ],
      "metadata": {
        "id": "YIzpSrAjSsAM"
      }
    },
    {
      "cell_type": "markdown",
      "source": [
        "## Nettoyage des Commentaires\n"
      ],
      "metadata": {
        "id": "nX_cZ4non1gb"
      }
    },
    {
      "cell_type": "markdown",
      "source": [
        "### On crée une fonction pour nettoyer les tweets. Les contractions sont séparées, les caractères spéciaux sont supprimés, ainsi que les URL, les mentions, les mots trop courts et les mots vides.\n"
      ],
      "metadata": {
        "id": "V1xflPt8rbbr"
      }
    },
    {
      "cell_type": "code",
      "source": [
        "def clean(comment): \n",
        "            \n",
        "    # Contractions\n",
        "    comment = re.sub(r\"he's\", \"he is\", comment)\n",
        "    comment = re.sub(r\"there's\", \"there is\", comment)\n",
        "    comment = re.sub(r\"We're\", \"We are\", comment)\n",
        "    comment = re.sub(r\"That's\", \"That is\", comment)\n",
        "    comment = re.sub(r\"won't\", \"will not\", comment)\n",
        "    comment = re.sub(r\"they're\", \"they are\", comment)\n",
        "    comment = re.sub(r\"Can't\", \"Cannot\", comment)\n",
        "    comment = re.sub(r\"wasn't\", \"was not\", comment)\n",
        "    comment = re.sub(r\"don\\x89Ûªt\", \"do not\", comment)\n",
        "    comment = re.sub(r\"aren't\", \"are not\", comment)\n",
        "    comment = re.sub(r\"isn't\", \"is not\", comment)\n",
        "    comment = re.sub(r\"What's\", \"What is\", comment)\n",
        "    comment = re.sub(r\"haven't\", \"have not\", comment)\n",
        "    comment = re.sub(r\"hasn't\", \"has not\", comment)\n",
        "    comment = re.sub(r\"There's\", \"There is\", comment)\n",
        "    comment = re.sub(r\"He's\", \"He is\", comment)\n",
        "    comment = re.sub(r\"It's\", \"It is\", comment)\n",
        "    comment = re.sub(r\"You're\", \"You are\", comment)\n",
        "    comment = re.sub(r\"I'M\", \"I am\", comment)\n",
        "    comment = re.sub(r\"shouldn't\", \"should not\", comment)\n",
        "    comment = re.sub(r\"wouldn't\", \"would not\", comment)\n",
        "    comment = re.sub(r\"i'm\", \"I am\", comment)\n",
        "    comment = re.sub(r\"I\\x89Ûªm\", \"I am\", comment)\n",
        "    comment = re.sub(r\"I'm\", \"I am\", comment)\n",
        "    comment = re.sub(r\"Isn't\", \"is not\", comment)\n",
        "    comment = re.sub(r\"Here's\", \"Here is\", comment)\n",
        "    comment = re.sub(r\"you've\", \"you have\", comment)\n",
        "    comment = re.sub(r\"you\\x89Ûªve\", \"you have\", comment)\n",
        "    comment = re.sub(r\"we're\", \"we are\", comment)\n",
        "    comment = re.sub(r\"what's\", \"what is\", comment)\n",
        "    comment = re.sub(r\"couldn't\", \"could not\", comment)\n",
        "    comment = re.sub(r\"we've\", \"we have\", comment)\n",
        "    comment = re.sub(r\"it\\x89Ûªs\", \"it is\", comment)\n",
        "    comment = re.sub(r\"doesn\\x89Ûªt\", \"does not\", comment)\n",
        "    comment = re.sub(r\"It\\x89Ûªs\", \"It is\", comment)\n",
        "    comment = re.sub(r\"Here\\x89Ûªs\", \"Here is\", comment)\n",
        "    comment = re.sub(r\"who's\", \"who is\", comment)\n",
        "    comment = re.sub(r\"I\\x89Ûªve\", \"I have\", comment)\n",
        "    comment = re.sub(r\"y'all\", \"you all\", comment)\n",
        "    comment = re.sub(r\"can\\x89Ûªt\", \"cannot\", comment)\n",
        "    comment = re.sub(r\"would've\", \"would have\", comment)\n",
        "    comment = re.sub(r\"it'll\", \"it will\", comment)\n",
        "    comment = re.sub(r\"we'll\", \"we will\", comment)\n",
        "    comment = re.sub(r\"wouldn\\x89Ûªt\", \"would not\", comment)\n",
        "    comment = re.sub(r\"We've\", \"We have\", comment)\n",
        "    comment = re.sub(r\"he'll\", \"he will\", comment)\n",
        "    comment = re.sub(r\"Y'all\", \"You all\", comment)\n",
        "    comment = re.sub(r\"Weren't\", \"Were not\", comment)\n",
        "    comment = re.sub(r\"Didn't\", \"Did not\", comment)\n",
        "    comment = re.sub(r\"they'll\", \"they will\", comment)\n",
        "    comment = re.sub(r\"they'd\", \"they would\", comment)\n",
        "    comment = re.sub(r\"DON'T\", \"DO NOT\", comment)\n",
        "    comment = re.sub(r\"That\\x89Ûªs\", \"That is\", comment)\n",
        "    comment = re.sub(r\"they've\", \"they have\", comment)\n",
        "    comment = re.sub(r\"i'd\", \"I would\", comment)\n",
        "    comment = re.sub(r\"should've\", \"should have\", comment)\n",
        "    comment = re.sub(r\"You\\x89Ûªre\", \"You are\", comment)\n",
        "    comment = re.sub(r\"where's\", \"where is\", comment)\n",
        "    comment = re.sub(r\"Don\\x89Ûªt\", \"Do not\", comment)\n",
        "    comment = re.sub(r\"we'd\", \"we would\", comment)\n",
        "    comment = re.sub(r\"i'll\", \"I will\", comment)\n",
        "    comment = re.sub(r\"weren't\", \"were not\", comment)\n",
        "    comment = re.sub(r\"They're\", \"They are\", comment)\n",
        "    comment = re.sub(r\"Can\\x89Ûªt\", \"Cannot\", comment)\n",
        "    comment = re.sub(r\"you\\x89Ûªll\", \"you will\", comment)\n",
        "    comment = re.sub(r\"I\\x89Ûªd\", \"I would\", comment)\n",
        "    comment = re.sub(r\"let's\", \"let us\", comment)\n",
        "    comment = re.sub(r\"it's\", \"it is\", comment)\n",
        "    comment = re.sub(r\"can't\", \"cannot\", comment)\n",
        "    comment = re.sub(r\"don't\", \"do not\", comment)\n",
        "    comment = re.sub(r\"you're\", \"you are\", comment)\n",
        "    comment = re.sub(r\"i've\", \"I have\", comment)\n",
        "    comment = re.sub(r\"that's\", \"that is\", comment)\n",
        "    comment = re.sub(r\"i'll\", \"I will\", comment)\n",
        "    comment = re.sub(r\"doesn't\", \"does not\", comment)\n",
        "    comment = re.sub(r\"i'd\", \"I would\", comment)\n",
        "    comment = re.sub(r\"didn't\", \"did not\", comment)\n",
        "    comment = re.sub(r\"ain't\", \"am not\", comment)\n",
        "    comment = re.sub(r\"you'll\", \"you will\", comment)\n",
        "    comment = re.sub(r\"I've\", \"I have\", comment)\n",
        "    comment = re.sub(r\"Don't\", \"do not\", comment)\n",
        "    comment = re.sub(r\"I'll\", \"I will\", comment)\n",
        "    comment = re.sub(r\"I'd\", \"I would\", comment)\n",
        "    comment = re.sub(r\"Let's\", \"Let us\", comment)\n",
        "    comment = re.sub(r\"you'd\", \"You would\", comment)\n",
        "    comment = re.sub(r\"It's\", \"It is\", comment)\n",
        "    comment = re.sub(r\"Ain't\", \"am not\", comment)\n",
        "    comment = re.sub(r\"Haven't\", \"Have not\", comment)\n",
        "    comment = re.sub(r\"Could've\", \"Could have\", comment)\n",
        "    comment = re.sub(r\"youve\", \"you have\", comment)  \n",
        "    comment = re.sub(r\"donå«t\", \"do not\", comment)\n",
        "    comment =  comment.lower()\n",
        "    comment = re.sub(r\"i'm\", \"i am\", comment)\n",
        "    comment = re.sub(r\"\\r\", \"\", comment)\n",
        "    comment = re.sub(r\"he's\", \"he is\", comment)\n",
        "    comment = re.sub(r\"she's\", \"she is\", comment)\n",
        "    comment = re.sub(r\"it's\", \"it is\", comment)\n",
        "    comment = re.sub(r\"that's\", \"that is\", comment)\n",
        "    comment = re.sub(r\"what's\", \"that is\", comment)\n",
        "    comment = re.sub(r\"where's\", \"where is\", comment)\n",
        "    comment = re.sub(r\"how's\", \"how is\", comment)\n",
        "    comment = re.sub(r\"\\'ll\", \" will\", comment)\n",
        "    comment = re.sub(r\"\\'ve\", \" have\", comment)\n",
        "    comment = re.sub(r\"\\'re\", \" are\", comment)\n",
        "    comment = re.sub(r\"\\'d\", \" would\", comment)\n",
        "    comment = re.sub(r\"\\'re\", \" are\", comment)\n",
        "    comment = re.sub(r\"won't\", \"will not\", comment)\n",
        "    comment = re.sub(r\"can't\", \"cannot\", comment)\n",
        "    comment = re.sub(r\"n't\", \" not\", comment)\n",
        "    comment = re.sub(r\"n'\", \"ng\", comment)\n",
        "    comment = re.sub(r\"'bout\", \"about\", comment)\n",
        "    comment = re.sub(r\"'til\", \"until\", comment)\n",
        "    comment = re.sub(r\"[-()\\\"#/@;:<>{}`+=~|.!?,]\", \"\", comment)\n",
        "    comment = comment.translate(str.maketrans('', '', string.punctuation)) \n",
        "    comment = re.sub(\"(\\\\W)\",\" \",comment) \n",
        "    comment = re.sub('\\S*\\d\\S*\\s*','', comment)  \n",
        "    \n",
        "    comment = re.sub(r\"some1\", \"someone\", comment)\n",
        "    comment = re.sub(r\"yrs\", \"years\", comment)\n",
        "    comment = re.sub(r\"hrs\", \"hours\", comment)\n",
        "    comment = re.sub(r\"2morow|2moro\", \"tomorrow\", comment)\n",
        "    comment = re.sub(r\"2day\", \"today\", comment)\n",
        "    comment = re.sub(r\"4got|4gotten\", \"forget\", comment)\n",
        "    comment = re.sub(r\"b-day|bday\", \"b-day\", comment)\n",
        "    comment = re.sub(r\"mother's\", \"mother\", comment)\n",
        "    comment = re.sub(r\"mom's\", \"mom\", comment)\n",
        "    comment = re.sub(r\"dad's\", \"dad\", comment)\n",
        "    comment = re.sub(r\"hahah|hahaha|hahahaha\", \"haha\", comment)\n",
        "    comment = re.sub(r\"lmao|lolz|rofl\", \"lol\", comment)\n",
        "    comment = re.sub(r\"thanx|thnx\", \"thanks\", comment)\n",
        "    comment = re.sub(r\"goood\", \"good\", comment)\n",
        "    comment = re.sub(r\"some1\", \"someone\", comment)\n",
        "    comment = re.sub(r\"some1\", \"someone\", comment)\n",
        "    # Character entity references\n",
        "    comment = re.sub(r\"&gt;\", \">\", comment)\n",
        "    comment = re.sub(r\"&lt;\", \"<\", comment)\n",
        "    comment = re.sub(r\"&amp;\", \"&\", comment)\n",
        "    # Typos, slang and informal abbreviations\n",
        "    comment = re.sub(r\"w/e\", \"whatever\", comment)\n",
        "    comment = re.sub(r\"w/\", \"with\", comment)\n",
        "    comment = re.sub(r\"<3\", \"love\", comment)\n",
        "    # Urls\n",
        "    comment = re.sub(r\"http\\S+\", \"\", comment)\n",
        "    # Numbers\n",
        "    comment = re.sub(r'[0-9]', '', comment)\n",
        "    # Eliminating the mentions\n",
        "    comment = re.sub(\"(@[A-Za-z0-9_]+)\",\"\", comment)\n",
        "    # Remove punctuation and special chars (keep '!')\n",
        "    for p in string.punctuation.replace('!', ''):\n",
        "        comment = comment.replace(p, '')\n",
        "        \n",
        "    # ... and ..\n",
        "    comment = comment.replace('...', ' ... ')\n",
        "    if '...' not in comment:\n",
        "        comment = comment.replace('..', ' ... ')\n",
        "       \n",
        "    # lower\n",
        "    comment = comment.lower()\n",
        "    \n",
        "    return comment"
      ],
      "metadata": {
        "id": "lU0XU_dboSGD"
      },
      "execution_count": null,
      "outputs": []
    },
    {
      "cell_type": "markdown",
      "source": [
        "### Supprime toutes les abréviations"
      ],
      "metadata": {
        "id": "MYn4Js4TtSvV"
      }
    },
    {
      "cell_type": "code",
      "source": [
        "variable_name = \"\"\n",
        "abbreviations = {\n",
        "    \"$\" : \" dollar \",\n",
        "    \"€\" : \" euro \",\n",
        "    \"4ao\" : \"for adults only\",\n",
        "    \"a.m\" : \"before midday\",\n",
        "    \"a3\" : \"anytime anywhere anyplace\",\n",
        "    \"aamof\" : \"as a matter of fact\",\n",
        "    \"acct\" : \"account\",\n",
        "    \"adih\" : \"another day in hell\",\n",
        "    \"afaic\" : \"as far as i am concerned\",\n",
        "    \"afaict\" : \"as far as i can tell\",\n",
        "    \"afaik\" : \"as far as i know\",\n",
        "    \"afair\" : \"as far as i remember\",\n",
        "    \"afk\" : \"away from keyboard\",\n",
        "    \"app\" : \"application\",\n",
        "    \"approx\" : \"approximately\",\n",
        "    \"apps\" : \"applications\",\n",
        "    \"asap\" : \"as soon as possible\",\n",
        "    \"asl\" : \"age, sex, location\",\n",
        "    \"atk\" : \"at the keyboard\",\n",
        "    \"ave.\" : \"avenue\",\n",
        "    \"aymm\" : \"are you my mother\",\n",
        "    \"ayor\" : \"at your own risk\", \n",
        "    \"b&b\" : \"bed and breakfast\",\n",
        "    \"b+b\" : \"bed and breakfast\",\n",
        "    \"b.c\" : \"before christ\",\n",
        "    \"b2b\" : \"business to business\",\n",
        "    \"b2c\" : \"business to customer\",\n",
        "    \"b4\" : \"before\",\n",
        "    \"b4n\" : \"bye for now\",\n",
        "    \"b@u\" : \"back at you\",\n",
        "    \"bae\" : \"before anyone else\",\n",
        "    \"bak\" : \"back at keyboard\",\n",
        "    \"bbbg\" : \"bye bye be good\",\n",
        "    \"bbc\" : \"british broadcasting corporation\",\n",
        "    \"bbias\" : \"be back in a second\",\n",
        "    \"bbl\" : \"be back later\",\n",
        "    \"bbs\" : \"be back soon\",\n",
        "    \"be4\" : \"before\",\n",
        "    \"bfn\" : \"bye for now\",\n",
        "    \"blvd\" : \"boulevard\",\n",
        "    \"bout\" : \"about\",\n",
        "    \"brb\" : \"be right back\",\n",
        "    \"bros\" : \"brothers\",\n",
        "    \"brt\" : \"be right there\",\n",
        "    \"bsaaw\" : \"big smile and a wink\",\n",
        "    \"btw\" : \"by the way\",\n",
        "    \"bwl\" : \"bursting with laughter\",\n",
        "    \"c/o\" : \"care of\",\n",
        "    \"cet\" : \"central european time\",\n",
        "    \"cf\" : \"compare\",\n",
        "    \"cia\" : \"central intelligence agency\",\n",
        "    \"csl\" : \"can not stop laughing\",\n",
        "    \"cu\" : \"see you\",\n",
        "    \"cul8r\" : \"see you later\",\n",
        "    \"cv\" : \"curriculum vitae\",\n",
        "    \"cwot\" : \"complete waste of time\",\n",
        "    \"cya\" : \"see you\",\n",
        "    \"cyt\" : \"see you tomorrow\",\n",
        "    \"dae\" : \"does anyone else\",\n",
        "    \"dbmib\" : \"do not bother me i am busy\",\n",
        "    \"diy\" : \"do it yourself\",\n",
        "    \"dm\" : \"direct message\",\n",
        "    \"dwh\" : \"during work hours\",\n",
        "    \"e123\" : \"easy as one two three\",\n",
        "    \"eet\" : \"eastern european time\",\n",
        "    \"eg\" : \"example\",\n",
        "    \"embm\" : \"early morning business meeting\",\n",
        "    \"encl\" : \"enclosed\",\n",
        "    \"encl.\" : \"enclosed\",\n",
        "    \"etc\" : \"and so on\",\n",
        "    \"faq\" : \"frequently asked questions\",\n",
        "    \"fawc\" : \"for anyone who cares\",\n",
        "    \"fb\" : \"facebook\",\n",
        "    \"fc\" : \"fingers crossed\",\n",
        "    \"fig\" : \"figure\",\n",
        "    \"fimh\" : \"forever in my heart\", \n",
        "    \"ft.\" : \"feet\",\n",
        "    \"ft\" : \"featuring\",\n",
        "    \"ftl\" : \"for the loss\",\n",
        "    \"ftw\" : \"for the win\",\n",
        "    \"fwiw\" : \"for what it is worth\",\n",
        "    \"fyi\" : \"for your information\",\n",
        "    \"g9\" : \"genius\",\n",
        "    \"gahoy\" : \"get a hold of yourself\",\n",
        "    \"gal\" : \"get a life\",\n",
        "    \"gcse\" : \"general certificate of secondary education\",\n",
        "    \"gfn\" : \"gone for now\",\n",
        "    \"gg\" : \"good game\",\n",
        "    \"gl\" : \"good luck\",\n",
        "    \"glhf\" : \"good luck have fun\",\n",
        "    \"gmt\" : \"greenwich mean time\",\n",
        "    \"gmta\" : \"great minds think alike\",\n",
        "    \"gn\" : \"good night\",\n",
        "    \"g.o.a.t\" : \"greatest of all time\",\n",
        "    \"goat\" : \"greatest of all time\",\n",
        "    \"goi\" : \"get over it\",\n",
        "    \"gps\" : \"global positioning system\",\n",
        "    \"gr8\" : \"great\",\n",
        "    \"gratz\" : \"congratulations\",\n",
        "    \"gyal\" : \"girl\",\n",
        "    \"h&c\" : \"hot and cold\",\n",
        "    \"hp\" : \"horsepower\",\n",
        "    \"hr\" : \"hour\",\n",
        "    \"hrh\" : \"his royal highness\",\n",
        "    \"ht\" : \"height\",\n",
        "    \"ibrb\" : \"i will be right back\",\n",
        "    \"ic\" : \"i see\",\n",
        "    \"icq\" : \"i seek you\",\n",
        "    \"icymi\" : \"in case you missed it\",\n",
        "    \"idc\" : \"i do not care\",\n",
        "    \"idgadf\" : \"i do not give a damn fuck\",\n",
        "    \"idgaf\" : \"i do not give a fuck\",\n",
        "    \"idk\" : \"i do not know\",\n",
        "    \"ie\" : \"that is\",\n",
        "    \"i.e\" : \"that is\",\n",
        "    \"ifyp\" : \"i feel your pain\",\n",
        "    \"IG\" : \"instagram\",\n",
        "    \"iirc\" : \"if i remember correctly\",\n",
        "    \"ilu\" : \"i love you\",\n",
        "    \"ily\" : \"i love you\",\n",
        "    \"imho\" : \"in my humble opinion\",\n",
        "    \"imo\" : \"in my opinion\",\n",
        "    \"imu\" : \"i miss you\",\n",
        "    \"iow\" : \"in other words\",\n",
        "    \"irl\" : \"in real life\",\n",
        "    \"j4f\" : \"just for fun\",\n",
        "    \"jic\" : \"just in case\",\n",
        "    \"jk\" : \"just kidding\",\n",
        "    \"jsyk\" : \"just so you know\",\n",
        "    \"l8r\" : \"later\",\n",
        "    \"lb\" : \"pound\",\n",
        "    \"lbs\" : \"pounds\",\n",
        "    \"ldr\" : \"long distance relationship\",\n",
        "    \"lmao\" : \"laugh my ass off\",\n",
        "    \"lmfao\" : \"laugh my fucking ass off\",\n",
        "    \"lol\" : \"laughing out loud\",\n",
        "    \"ltd\" : \"limited\",\n",
        "    \"ltns\" : \"long time no see\",\n",
        "    \"m8\" : \"mate\",\n",
        "    \"mf\" : \"motherfucker\",\n",
        "    \"mfs\" : \"motherfuckers\",\n",
        "    \"mfw\" : \"my face when\",\n",
        "    \"mofo\" : \"motherfucker\",\n",
        "    \"mph\" : \"miles per hour\",\n",
        "    \"mr\" : \"mister\",\n",
        "    \"mrw\" : \"my reaction when\",\n",
        "    \"ms\" : \"miss\",\n",
        "    \"mte\" : \"my thoughts exactly\",\n",
        "    \"nagi\" : \"not a good idea\",\n",
        "    \"nbc\" : \"national broadcasting company\",\n",
        "    \"nbd\" : \"not big deal\",\n",
        "    \"nfs\" : \"not for sale\",\n",
        "    \"ngl\" : \"not going to lie\",\n",
        "    \"nhs\" : \"national health service\",\n",
        "    \"nrn\" : \"no reply necessary\",\n",
        "    \"nsfl\" : \"not safe for life\",\n",
        "    \"nsfw\" : \"not safe for work\",\n",
        "    \"nth\" : \"nice to have\",\n",
        "    \"nvr\" : \"never\",\n",
        "    \"nyc\" : \"new york city\",\n",
        "    \"oc\" : \"original content\",\n",
        "    \"og\" : \"original\",\n",
        "    \"ohp\" : \"overhead projector\",\n",
        "    \"oic\" : \"oh i see\",\n",
        "    \"omdb\" : \"over my dead body\",\n",
        "    \"omg\" : \"oh my god\",\n",
        "    \"omw\" : \"on my way\",\n",
        "    \"p.a\" : \"per annum\",\n",
        "    \"p.m\" : \"after midday\",\n",
        "    \"pm\" : \"prime minister\",\n",
        "    \"poc\" : \"people of color\",\n",
        "    \"pov\" : \"point of view\",\n",
        "    \"pp\" : \"pages\",\n",
        "    \"ppl\" : \"people\",\n",
        "    \"prw\" : \"parents are watching\",\n",
        "    \"ps\" : \"postscript\",\n",
        "    \"pt\" : \"point\",\n",
        "    \"ptb\" : \"please text back\",\n",
        "    \"pto\" : \"please turn over\",\n",
        "    \"qpsa\" : \"what happens\", \n",
        "    \"ratchet\" : \"rude\",\n",
        "    \"rbtl\" : \"read between the lines\",\n",
        "    \"rlrt\" : \"real life retweet\", \n",
        "    \"rofl\" : \"rolling on the floor laughing\",\n",
        "    \"roflol\" : \"rolling on the floor laughing out loud\",\n",
        "    \"rotflmao\" : \"rolling on the floor laughing my ass off\",\n",
        "    \"rt\" : \"retweet\",\n",
        "    \"ruok\" : \"are you ok\",\n",
        "    \"sfw\" : \"safe for work\",\n",
        "     \"sk8\" : \"skate\",\n",
        "    \"smh\" : \"shake my head\",\n",
        "    \"sq\" : \"square\",\n",
        "    \"srsly\" : \"seriously\", \n",
        "    \"ssdd\" : \"same stuff different day\",\n",
        "    \"tbh\" : \"to be honest\",\n",
        "    \"tbs\" : \"tablespooful\",\n",
        "    \"tbsp\" : \"tablespooful\",\n",
        "    \"tfw\" : \"that feeling when\",\n",
        "    \"thks\" : \"thank you\",\n",
        "    \"tho\" : \"though\",\n",
        "    \"thx\" : \"thank you\",\n",
        "    \"tia\" : \"thanks in advance\",\n",
        "    \"til\" : \"today i learned\",\n",
        "    \"tl;dr\" : \"too long i did not read\",\n",
        "    \"tldr\" : \"too long i did not read\",\n",
        "    \"tmb\" : \"tweet me back\",\n",
        "    \"tntl\" : \"trying not to laugh\",\n",
        "    \"ttyl\" : \"talk to you later\",\n",
        "    \"u\" : \"you\",\n",
        "    \"u2\" : \"you too\",\n",
        "    \"u4e\" : \"yours for ever\",\n",
        "    \"utc\" : \"coordinated universal time\",\n",
        "    \"w/\" : \"with\",\n",
        "    \"w/o\" : \"without\",\n",
        "    \"w8\" : \"wait\",\n",
        "    \"wassup\" : \"what is up\",\n",
        "    \"wb\" : \"welcome back\",\n",
        "    \"wtf\" : \"what the fuck\",\n",
        "    \"wtg\" : \"way to go\",\n",
        "    \"wtpa\" : \"where the party at\",\n",
        "    \"wuf\" : \"where are you from\",\n",
        "    \"wuzup\" : \"what is up\",\n",
        "    \"wywh\" : \"wish you were here\",\n",
        "    \"yd\" : \"yard\",\n",
        "    \"ygtr\" : \"you got that right\",\n",
        "    \"ynk\" : \"you never know\",\n",
        "    \"zzz\" : \"sleeping bored and tired\"\n",
        "}\n",
        "\n",
        "def convert_abbrev_in_text(comment):\n",
        "    t=[]\n",
        "    words=comment.split()\n",
        "    t = [abbreviations[w.lower()] if w.lower() in abbreviations.keys() else w for w in words]\n",
        "    return ' '.join(t) "
      ],
      "metadata": {
        "id": "nhaqDPjZr6Ok"
      },
      "execution_count": null,
      "outputs": []
    },
    {
      "cell_type": "markdown",
      "source": [
        "### Applique les deux fonctions définies ci-dessus sur un commentaire donné :"
      ],
      "metadata": {
        "id": "3wSDQDNEsOzk"
      }
    },
    {
      "cell_type": "code",
      "source": [
        "def prepare_string(comment):\n",
        "  comment = clean(comment)\n",
        "  comment = convert_abbrev_in_text(comment)\n",
        "  return comment"
      ],
      "metadata": {
        "id": "kBzMPs-esKmP"
      },
      "execution_count": null,
      "outputs": []
    },
    {
      "cell_type": "code",
      "source": [
        "# %%time\n",
        "\n",
        "data['comment_text'] = data['comment_text'].apply(lambda s : prepare_string(s))\n",
        "data.isnull().sum()\n"
      ],
      "metadata": {
        "id": "WsGyNGJhsgEB",
        "colab": {
          "base_uri": "https://localhost:8080/"
        },
        "outputId": "2de9c05c-1cb9-4fb5-8a64-39986918a613"
      },
      "execution_count": null,
      "outputs": [
        {
          "output_type": "execute_result",
          "data": {
            "text/plain": [
              "id               0\n",
              "comment_text     0\n",
              "toxic            0\n",
              "severe_toxic     0\n",
              "obscene          0\n",
              "threat           0\n",
              "insult           0\n",
              "identity_hate    0\n",
              "dtype: int64"
            ]
          },
          "metadata": {},
          "execution_count": 87
        }
      ]
    },
    {
      "cell_type": "code",
      "source": [
        "# Drop empty values from dataframe\n",
        "data['comment_text'].replace('', np.nan, inplace=True)\n",
        "data.dropna(subset=['comment_text'], inplace=True)"
      ],
      "metadata": {
        "id": "jzQk6-mUJo-q"
      },
      "execution_count": null,
      "outputs": []
    },
    {
      "cell_type": "code",
      "source": [
        "data.head(50)"
      ],
      "metadata": {
        "id": "_CkYCJv5svU_",
        "colab": {
          "base_uri": "https://localhost:8080/",
          "height": 1000
        },
        "outputId": "c55003e4-6ebc-40ec-e718-a72396173161"
      },
      "execution_count": null,
      "outputs": [
        {
          "output_type": "execute_result",
          "data": {
            "text/plain": [
              "                    id                                       comment_text  \\\n",
              "3     0001b41b1c6bb37e  more i cannot make any real suggestions on imp...   \n",
              "12    0005c987bdfc9d4b  hey what is it talk what is it an exclusive gr...   \n",
              "44    001956c382006abd  i am sorry i am sorry i screwed around with so...   \n",
              "52    001e89eb3f0b0915  are you threatening me for disputing neutralit...   \n",
              "67    002918ae66cc4bc2  i went there around the same time he did and t...   \n",
              "101   003fa0c68deca750                       check the following websites   \n",
              "139   00582dcd527c8d7d   laughing out loud what a go and listen to manele   \n",
              "147   005e2ae8f864f76c  userbox hello a userbox you are using template...   \n",
              "158   0061b075244dd234  once again i responded to milemoneys reasoning...   \n",
              "167   006854d70298693e  hi hi good day my deepest apologies that i had...   \n",
              "171   006a263a08b593c5  note that the sandbox is the right place to ex...   \n",
              "202   00803f08f55bdcad  reliable sources indicate otherwise please do ...   \n",
              "225   00905910dcbcc8aa  an important message block me i can live with ...   \n",
              "251   00a1aabcab9d44a0  yes they are indeed i have replaced that secon...   \n",
              "253   00a216c00b90ce88  gore response can anybody find gores response ...   \n",
              "274   00ada3413dc2d942  i found one sort of anyhow the web site for je...   \n",
              "283   00b2924708445da2  yes mainsprings are used in some clocks as wel...   \n",
              "338   00d8def7111797e6  this wiil be my last use of this acount please...   \n",
              "370   00ec25ee9f856104  your report thank you for making a report on w...   \n",
              "416   0109e81b7ab2b70e  bulgars oh my god you are an admin and you pro...   \n",
              "441   012028e3bdaedd1b  yes i do hope to get it to ga status in the fu...   \n",
              "456   012774df29ab567e  a friendly advice if you have to refer to me k...   \n",
              "547   016e609eb86f2bad  the section is useful info and should stay you...   \n",
              "549   01713c59db763c79  it needs to be included in the context of as w...   \n",
              "550   01726bfc7b29b8c9  tim firstly i appreciate you taking the time t...   \n",
              "557   01754d101f511048  nope i did not read the guide to appealing did...   \n",
              "567   017e027be3c62f00  it is unnecessairy source because it does not ...   \n",
              "575   0182543bde139103  you need to prove notability using reliable so...   \n",
              "686   01db04fdd3195492  terri schiavo as rorschach test now perhaps yo...   \n",
              "716   01f0ab0d0c384fb1  dxraw come out come out where ever you are how...   \n",
              "719   01f19cfd346024aa  kudos for destroying article copyright superst...   \n",
              "751   02066a519739a3a7  weatherman and better writing a lot of the cha...   \n",
              "754   0206ea29807e8b6a  dispatch review i added some comments here i t...   \n",
              "825   0234b8e789a484cf  two things it makes no difference to the valid...   \n",
              "826   0236f714de182059  hi nice of everyone to listenwell ive been her...   \n",
              "856   02575816446fde51                   and what is the problem with neo   \n",
              "970   02a98102fabcc119  seriously alex your article is on the edge of ...   \n",
              "990   02b61bbf349bda52  other attractions what is a water place and an...   \n",
              "1095  02fe01816a801b04                                  thanks you da one   \n",
              "1102  03008aa69671be95  your continual removal and attempt at hiding s...   \n",
              "1121  030bbdeeb521198a  please note that dpeterson has now starting ac...   \n",
              "1134  031122dbf81912af  evan rachel wood is there any evidence that sh...   \n",
              "1138  0315e968ae19fed8  wikiproject new zealand classc importancelow p...   \n",
              "1150  031c15507901e54a  oh hear me go someone removes all my pages i g...   \n",
              "1194  033984ba759fad61  your most excellent presence is requested urge...   \n",
              "1197  033d6574ecbbeb8e  or any historical fact concerning current arme...   \n",
              "1206  034334446bafa2e1  proposed move to stiffness to weight ratio why...   \n",
              "1235  03516d7b4b7ff4e6  npov tag an anonymous user removed the npov ta...   \n",
              "1248  03585d8dd27a3653  please do not delete hi i am please do not del...   \n",
              "1275  03745d0f2ee0b21c                                 is it still a stub   \n",
              "\n",
              "      toxic  severe_toxic  obscene  threat  insult  identity_hate  \n",
              "3         0             0        0       0       0              0  \n",
              "12        1             0        0       0       0              0  \n",
              "44        1             0        0       0       0              0  \n",
              "52        0             0        0       0       0              0  \n",
              "67        0             0        0       0       0              0  \n",
              "101       0             0        0       0       0              0  \n",
              "139       0             0        0       0       0              0  \n",
              "147       0             0        0       0       0              0  \n",
              "158       0             0        0       0       0              0  \n",
              "167       0             0        0       0       0              0  \n",
              "171       0             0        0       0       0              0  \n",
              "202       0             0        0       0       0              0  \n",
              "225       0             0        0       0       0              0  \n",
              "251       0             0        0       0       0              0  \n",
              "253       0             0        0       0       0              0  \n",
              "274       0             0        0       0       0              0  \n",
              "283       0             0        0       0       0              0  \n",
              "338       0             0        0       0       0              0  \n",
              "370       0             0        0       0       0              0  \n",
              "416       0             0        0       0       0              0  \n",
              "441       0             0        0       0       0              0  \n",
              "456       0             0        0       0       0              0  \n",
              "547       0             0        0       0       0              0  \n",
              "549       0             0        0       0       0              0  \n",
              "550       0             0        0       0       0              0  \n",
              "557       0             0        0       0       0              0  \n",
              "567       0             0        0       0       0              0  \n",
              "575       0             0        0       0       0              0  \n",
              "686       0             0        0       0       0              0  \n",
              "716       0             0        0       0       0              0  \n",
              "719       0             0        0       0       0              0  \n",
              "751       0             0        0       0       0              0  \n",
              "754       0             0        0       0       0              0  \n",
              "825       0             0        0       0       0              0  \n",
              "826       0             0        0       0       0              0  \n",
              "856       0             0        0       0       0              0  \n",
              "970       0             0        0       0       0              0  \n",
              "990       0             0        0       0       0              0  \n",
              "1095      0             0        0       0       0              0  \n",
              "1102      0             0        0       0       0              0  \n",
              "1121      0             0        0       0       0              0  \n",
              "1134      0             0        0       0       0              0  \n",
              "1138      0             0        0       0       0              0  \n",
              "1150      0             0        0       0       0              0  \n",
              "1194      0             0        0       0       0              0  \n",
              "1197      1             0        1       0       0              0  \n",
              "1206      0             0        0       0       0              0  \n",
              "1235      0             0        0       0       0              0  \n",
              "1248      0             0        0       0       0              0  \n",
              "1275      0             0        0       0       0              0  "
            ],
            "text/html": [
              "\n",
              "  <div id=\"df-4019551f-e9ce-4e45-96db-41db566a5fc3\">\n",
              "    <div class=\"colab-df-container\">\n",
              "      <div>\n",
              "<style scoped>\n",
              "    .dataframe tbody tr th:only-of-type {\n",
              "        vertical-align: middle;\n",
              "    }\n",
              "\n",
              "    .dataframe tbody tr th {\n",
              "        vertical-align: top;\n",
              "    }\n",
              "\n",
              "    .dataframe thead th {\n",
              "        text-align: right;\n",
              "    }\n",
              "</style>\n",
              "<table border=\"1\" class=\"dataframe\">\n",
              "  <thead>\n",
              "    <tr style=\"text-align: right;\">\n",
              "      <th></th>\n",
              "      <th>id</th>\n",
              "      <th>comment_text</th>\n",
              "      <th>toxic</th>\n",
              "      <th>severe_toxic</th>\n",
              "      <th>obscene</th>\n",
              "      <th>threat</th>\n",
              "      <th>insult</th>\n",
              "      <th>identity_hate</th>\n",
              "    </tr>\n",
              "  </thead>\n",
              "  <tbody>\n",
              "    <tr>\n",
              "      <th>3</th>\n",
              "      <td>0001b41b1c6bb37e</td>\n",
              "      <td>more i cannot make any real suggestions on imp...</td>\n",
              "      <td>0</td>\n",
              "      <td>0</td>\n",
              "      <td>0</td>\n",
              "      <td>0</td>\n",
              "      <td>0</td>\n",
              "      <td>0</td>\n",
              "    </tr>\n",
              "    <tr>\n",
              "      <th>12</th>\n",
              "      <td>0005c987bdfc9d4b</td>\n",
              "      <td>hey what is it talk what is it an exclusive gr...</td>\n",
              "      <td>1</td>\n",
              "      <td>0</td>\n",
              "      <td>0</td>\n",
              "      <td>0</td>\n",
              "      <td>0</td>\n",
              "      <td>0</td>\n",
              "    </tr>\n",
              "    <tr>\n",
              "      <th>44</th>\n",
              "      <td>001956c382006abd</td>\n",
              "      <td>i am sorry i am sorry i screwed around with so...</td>\n",
              "      <td>1</td>\n",
              "      <td>0</td>\n",
              "      <td>0</td>\n",
              "      <td>0</td>\n",
              "      <td>0</td>\n",
              "      <td>0</td>\n",
              "    </tr>\n",
              "    <tr>\n",
              "      <th>52</th>\n",
              "      <td>001e89eb3f0b0915</td>\n",
              "      <td>are you threatening me for disputing neutralit...</td>\n",
              "      <td>0</td>\n",
              "      <td>0</td>\n",
              "      <td>0</td>\n",
              "      <td>0</td>\n",
              "      <td>0</td>\n",
              "      <td>0</td>\n",
              "    </tr>\n",
              "    <tr>\n",
              "      <th>67</th>\n",
              "      <td>002918ae66cc4bc2</td>\n",
              "      <td>i went there around the same time he did and t...</td>\n",
              "      <td>0</td>\n",
              "      <td>0</td>\n",
              "      <td>0</td>\n",
              "      <td>0</td>\n",
              "      <td>0</td>\n",
              "      <td>0</td>\n",
              "    </tr>\n",
              "    <tr>\n",
              "      <th>101</th>\n",
              "      <td>003fa0c68deca750</td>\n",
              "      <td>check the following websites</td>\n",
              "      <td>0</td>\n",
              "      <td>0</td>\n",
              "      <td>0</td>\n",
              "      <td>0</td>\n",
              "      <td>0</td>\n",
              "      <td>0</td>\n",
              "    </tr>\n",
              "    <tr>\n",
              "      <th>139</th>\n",
              "      <td>00582dcd527c8d7d</td>\n",
              "      <td>laughing out loud what a go and listen to manele</td>\n",
              "      <td>0</td>\n",
              "      <td>0</td>\n",
              "      <td>0</td>\n",
              "      <td>0</td>\n",
              "      <td>0</td>\n",
              "      <td>0</td>\n",
              "    </tr>\n",
              "    <tr>\n",
              "      <th>147</th>\n",
              "      <td>005e2ae8f864f76c</td>\n",
              "      <td>userbox hello a userbox you are using template...</td>\n",
              "      <td>0</td>\n",
              "      <td>0</td>\n",
              "      <td>0</td>\n",
              "      <td>0</td>\n",
              "      <td>0</td>\n",
              "      <td>0</td>\n",
              "    </tr>\n",
              "    <tr>\n",
              "      <th>158</th>\n",
              "      <td>0061b075244dd234</td>\n",
              "      <td>once again i responded to milemoneys reasoning...</td>\n",
              "      <td>0</td>\n",
              "      <td>0</td>\n",
              "      <td>0</td>\n",
              "      <td>0</td>\n",
              "      <td>0</td>\n",
              "      <td>0</td>\n",
              "    </tr>\n",
              "    <tr>\n",
              "      <th>167</th>\n",
              "      <td>006854d70298693e</td>\n",
              "      <td>hi hi good day my deepest apologies that i had...</td>\n",
              "      <td>0</td>\n",
              "      <td>0</td>\n",
              "      <td>0</td>\n",
              "      <td>0</td>\n",
              "      <td>0</td>\n",
              "      <td>0</td>\n",
              "    </tr>\n",
              "    <tr>\n",
              "      <th>171</th>\n",
              "      <td>006a263a08b593c5</td>\n",
              "      <td>note that the sandbox is the right place to ex...</td>\n",
              "      <td>0</td>\n",
              "      <td>0</td>\n",
              "      <td>0</td>\n",
              "      <td>0</td>\n",
              "      <td>0</td>\n",
              "      <td>0</td>\n",
              "    </tr>\n",
              "    <tr>\n",
              "      <th>202</th>\n",
              "      <td>00803f08f55bdcad</td>\n",
              "      <td>reliable sources indicate otherwise please do ...</td>\n",
              "      <td>0</td>\n",
              "      <td>0</td>\n",
              "      <td>0</td>\n",
              "      <td>0</td>\n",
              "      <td>0</td>\n",
              "      <td>0</td>\n",
              "    </tr>\n",
              "    <tr>\n",
              "      <th>225</th>\n",
              "      <td>00905910dcbcc8aa</td>\n",
              "      <td>an important message block me i can live with ...</td>\n",
              "      <td>0</td>\n",
              "      <td>0</td>\n",
              "      <td>0</td>\n",
              "      <td>0</td>\n",
              "      <td>0</td>\n",
              "      <td>0</td>\n",
              "    </tr>\n",
              "    <tr>\n",
              "      <th>251</th>\n",
              "      <td>00a1aabcab9d44a0</td>\n",
              "      <td>yes they are indeed i have replaced that secon...</td>\n",
              "      <td>0</td>\n",
              "      <td>0</td>\n",
              "      <td>0</td>\n",
              "      <td>0</td>\n",
              "      <td>0</td>\n",
              "      <td>0</td>\n",
              "    </tr>\n",
              "    <tr>\n",
              "      <th>253</th>\n",
              "      <td>00a216c00b90ce88</td>\n",
              "      <td>gore response can anybody find gores response ...</td>\n",
              "      <td>0</td>\n",
              "      <td>0</td>\n",
              "      <td>0</td>\n",
              "      <td>0</td>\n",
              "      <td>0</td>\n",
              "      <td>0</td>\n",
              "    </tr>\n",
              "    <tr>\n",
              "      <th>274</th>\n",
              "      <td>00ada3413dc2d942</td>\n",
              "      <td>i found one sort of anyhow the web site for je...</td>\n",
              "      <td>0</td>\n",
              "      <td>0</td>\n",
              "      <td>0</td>\n",
              "      <td>0</td>\n",
              "      <td>0</td>\n",
              "      <td>0</td>\n",
              "    </tr>\n",
              "    <tr>\n",
              "      <th>283</th>\n",
              "      <td>00b2924708445da2</td>\n",
              "      <td>yes mainsprings are used in some clocks as wel...</td>\n",
              "      <td>0</td>\n",
              "      <td>0</td>\n",
              "      <td>0</td>\n",
              "      <td>0</td>\n",
              "      <td>0</td>\n",
              "      <td>0</td>\n",
              "    </tr>\n",
              "    <tr>\n",
              "      <th>338</th>\n",
              "      <td>00d8def7111797e6</td>\n",
              "      <td>this wiil be my last use of this acount please...</td>\n",
              "      <td>0</td>\n",
              "      <td>0</td>\n",
              "      <td>0</td>\n",
              "      <td>0</td>\n",
              "      <td>0</td>\n",
              "      <td>0</td>\n",
              "    </tr>\n",
              "    <tr>\n",
              "      <th>370</th>\n",
              "      <td>00ec25ee9f856104</td>\n",
              "      <td>your report thank you for making a report on w...</td>\n",
              "      <td>0</td>\n",
              "      <td>0</td>\n",
              "      <td>0</td>\n",
              "      <td>0</td>\n",
              "      <td>0</td>\n",
              "      <td>0</td>\n",
              "    </tr>\n",
              "    <tr>\n",
              "      <th>416</th>\n",
              "      <td>0109e81b7ab2b70e</td>\n",
              "      <td>bulgars oh my god you are an admin and you pro...</td>\n",
              "      <td>0</td>\n",
              "      <td>0</td>\n",
              "      <td>0</td>\n",
              "      <td>0</td>\n",
              "      <td>0</td>\n",
              "      <td>0</td>\n",
              "    </tr>\n",
              "    <tr>\n",
              "      <th>441</th>\n",
              "      <td>012028e3bdaedd1b</td>\n",
              "      <td>yes i do hope to get it to ga status in the fu...</td>\n",
              "      <td>0</td>\n",
              "      <td>0</td>\n",
              "      <td>0</td>\n",
              "      <td>0</td>\n",
              "      <td>0</td>\n",
              "      <td>0</td>\n",
              "    </tr>\n",
              "    <tr>\n",
              "      <th>456</th>\n",
              "      <td>012774df29ab567e</td>\n",
              "      <td>a friendly advice if you have to refer to me k...</td>\n",
              "      <td>0</td>\n",
              "      <td>0</td>\n",
              "      <td>0</td>\n",
              "      <td>0</td>\n",
              "      <td>0</td>\n",
              "      <td>0</td>\n",
              "    </tr>\n",
              "    <tr>\n",
              "      <th>547</th>\n",
              "      <td>016e609eb86f2bad</td>\n",
              "      <td>the section is useful info and should stay you...</td>\n",
              "      <td>0</td>\n",
              "      <td>0</td>\n",
              "      <td>0</td>\n",
              "      <td>0</td>\n",
              "      <td>0</td>\n",
              "      <td>0</td>\n",
              "    </tr>\n",
              "    <tr>\n",
              "      <th>549</th>\n",
              "      <td>01713c59db763c79</td>\n",
              "      <td>it needs to be included in the context of as w...</td>\n",
              "      <td>0</td>\n",
              "      <td>0</td>\n",
              "      <td>0</td>\n",
              "      <td>0</td>\n",
              "      <td>0</td>\n",
              "      <td>0</td>\n",
              "    </tr>\n",
              "    <tr>\n",
              "      <th>550</th>\n",
              "      <td>01726bfc7b29b8c9</td>\n",
              "      <td>tim firstly i appreciate you taking the time t...</td>\n",
              "      <td>0</td>\n",
              "      <td>0</td>\n",
              "      <td>0</td>\n",
              "      <td>0</td>\n",
              "      <td>0</td>\n",
              "      <td>0</td>\n",
              "    </tr>\n",
              "    <tr>\n",
              "      <th>557</th>\n",
              "      <td>01754d101f511048</td>\n",
              "      <td>nope i did not read the guide to appealing did...</td>\n",
              "      <td>0</td>\n",
              "      <td>0</td>\n",
              "      <td>0</td>\n",
              "      <td>0</td>\n",
              "      <td>0</td>\n",
              "      <td>0</td>\n",
              "    </tr>\n",
              "    <tr>\n",
              "      <th>567</th>\n",
              "      <td>017e027be3c62f00</td>\n",
              "      <td>it is unnecessairy source because it does not ...</td>\n",
              "      <td>0</td>\n",
              "      <td>0</td>\n",
              "      <td>0</td>\n",
              "      <td>0</td>\n",
              "      <td>0</td>\n",
              "      <td>0</td>\n",
              "    </tr>\n",
              "    <tr>\n",
              "      <th>575</th>\n",
              "      <td>0182543bde139103</td>\n",
              "      <td>you need to prove notability using reliable so...</td>\n",
              "      <td>0</td>\n",
              "      <td>0</td>\n",
              "      <td>0</td>\n",
              "      <td>0</td>\n",
              "      <td>0</td>\n",
              "      <td>0</td>\n",
              "    </tr>\n",
              "    <tr>\n",
              "      <th>686</th>\n",
              "      <td>01db04fdd3195492</td>\n",
              "      <td>terri schiavo as rorschach test now perhaps yo...</td>\n",
              "      <td>0</td>\n",
              "      <td>0</td>\n",
              "      <td>0</td>\n",
              "      <td>0</td>\n",
              "      <td>0</td>\n",
              "      <td>0</td>\n",
              "    </tr>\n",
              "    <tr>\n",
              "      <th>716</th>\n",
              "      <td>01f0ab0d0c384fb1</td>\n",
              "      <td>dxraw come out come out where ever you are how...</td>\n",
              "      <td>0</td>\n",
              "      <td>0</td>\n",
              "      <td>0</td>\n",
              "      <td>0</td>\n",
              "      <td>0</td>\n",
              "      <td>0</td>\n",
              "    </tr>\n",
              "    <tr>\n",
              "      <th>719</th>\n",
              "      <td>01f19cfd346024aa</td>\n",
              "      <td>kudos for destroying article copyright superst...</td>\n",
              "      <td>0</td>\n",
              "      <td>0</td>\n",
              "      <td>0</td>\n",
              "      <td>0</td>\n",
              "      <td>0</td>\n",
              "      <td>0</td>\n",
              "    </tr>\n",
              "    <tr>\n",
              "      <th>751</th>\n",
              "      <td>02066a519739a3a7</td>\n",
              "      <td>weatherman and better writing a lot of the cha...</td>\n",
              "      <td>0</td>\n",
              "      <td>0</td>\n",
              "      <td>0</td>\n",
              "      <td>0</td>\n",
              "      <td>0</td>\n",
              "      <td>0</td>\n",
              "    </tr>\n",
              "    <tr>\n",
              "      <th>754</th>\n",
              "      <td>0206ea29807e8b6a</td>\n",
              "      <td>dispatch review i added some comments here i t...</td>\n",
              "      <td>0</td>\n",
              "      <td>0</td>\n",
              "      <td>0</td>\n",
              "      <td>0</td>\n",
              "      <td>0</td>\n",
              "      <td>0</td>\n",
              "    </tr>\n",
              "    <tr>\n",
              "      <th>825</th>\n",
              "      <td>0234b8e789a484cf</td>\n",
              "      <td>two things it makes no difference to the valid...</td>\n",
              "      <td>0</td>\n",
              "      <td>0</td>\n",
              "      <td>0</td>\n",
              "      <td>0</td>\n",
              "      <td>0</td>\n",
              "      <td>0</td>\n",
              "    </tr>\n",
              "    <tr>\n",
              "      <th>826</th>\n",
              "      <td>0236f714de182059</td>\n",
              "      <td>hi nice of everyone to listenwell ive been her...</td>\n",
              "      <td>0</td>\n",
              "      <td>0</td>\n",
              "      <td>0</td>\n",
              "      <td>0</td>\n",
              "      <td>0</td>\n",
              "      <td>0</td>\n",
              "    </tr>\n",
              "    <tr>\n",
              "      <th>856</th>\n",
              "      <td>02575816446fde51</td>\n",
              "      <td>and what is the problem with neo</td>\n",
              "      <td>0</td>\n",
              "      <td>0</td>\n",
              "      <td>0</td>\n",
              "      <td>0</td>\n",
              "      <td>0</td>\n",
              "      <td>0</td>\n",
              "    </tr>\n",
              "    <tr>\n",
              "      <th>970</th>\n",
              "      <td>02a98102fabcc119</td>\n",
              "      <td>seriously alex your article is on the edge of ...</td>\n",
              "      <td>0</td>\n",
              "      <td>0</td>\n",
              "      <td>0</td>\n",
              "      <td>0</td>\n",
              "      <td>0</td>\n",
              "      <td>0</td>\n",
              "    </tr>\n",
              "    <tr>\n",
              "      <th>990</th>\n",
              "      <td>02b61bbf349bda52</td>\n",
              "      <td>other attractions what is a water place and an...</td>\n",
              "      <td>0</td>\n",
              "      <td>0</td>\n",
              "      <td>0</td>\n",
              "      <td>0</td>\n",
              "      <td>0</td>\n",
              "      <td>0</td>\n",
              "    </tr>\n",
              "    <tr>\n",
              "      <th>1095</th>\n",
              "      <td>02fe01816a801b04</td>\n",
              "      <td>thanks you da one</td>\n",
              "      <td>0</td>\n",
              "      <td>0</td>\n",
              "      <td>0</td>\n",
              "      <td>0</td>\n",
              "      <td>0</td>\n",
              "      <td>0</td>\n",
              "    </tr>\n",
              "    <tr>\n",
              "      <th>1102</th>\n",
              "      <td>03008aa69671be95</td>\n",
              "      <td>your continual removal and attempt at hiding s...</td>\n",
              "      <td>0</td>\n",
              "      <td>0</td>\n",
              "      <td>0</td>\n",
              "      <td>0</td>\n",
              "      <td>0</td>\n",
              "      <td>0</td>\n",
              "    </tr>\n",
              "    <tr>\n",
              "      <th>1121</th>\n",
              "      <td>030bbdeeb521198a</td>\n",
              "      <td>please note that dpeterson has now starting ac...</td>\n",
              "      <td>0</td>\n",
              "      <td>0</td>\n",
              "      <td>0</td>\n",
              "      <td>0</td>\n",
              "      <td>0</td>\n",
              "      <td>0</td>\n",
              "    </tr>\n",
              "    <tr>\n",
              "      <th>1134</th>\n",
              "      <td>031122dbf81912af</td>\n",
              "      <td>evan rachel wood is there any evidence that sh...</td>\n",
              "      <td>0</td>\n",
              "      <td>0</td>\n",
              "      <td>0</td>\n",
              "      <td>0</td>\n",
              "      <td>0</td>\n",
              "      <td>0</td>\n",
              "    </tr>\n",
              "    <tr>\n",
              "      <th>1138</th>\n",
              "      <td>0315e968ae19fed8</td>\n",
              "      <td>wikiproject new zealand classc importancelow p...</td>\n",
              "      <td>0</td>\n",
              "      <td>0</td>\n",
              "      <td>0</td>\n",
              "      <td>0</td>\n",
              "      <td>0</td>\n",
              "      <td>0</td>\n",
              "    </tr>\n",
              "    <tr>\n",
              "      <th>1150</th>\n",
              "      <td>031c15507901e54a</td>\n",
              "      <td>oh hear me go someone removes all my pages i g...</td>\n",
              "      <td>0</td>\n",
              "      <td>0</td>\n",
              "      <td>0</td>\n",
              "      <td>0</td>\n",
              "      <td>0</td>\n",
              "      <td>0</td>\n",
              "    </tr>\n",
              "    <tr>\n",
              "      <th>1194</th>\n",
              "      <td>033984ba759fad61</td>\n",
              "      <td>your most excellent presence is requested urge...</td>\n",
              "      <td>0</td>\n",
              "      <td>0</td>\n",
              "      <td>0</td>\n",
              "      <td>0</td>\n",
              "      <td>0</td>\n",
              "      <td>0</td>\n",
              "    </tr>\n",
              "    <tr>\n",
              "      <th>1197</th>\n",
              "      <td>033d6574ecbbeb8e</td>\n",
              "      <td>or any historical fact concerning current arme...</td>\n",
              "      <td>1</td>\n",
              "      <td>0</td>\n",
              "      <td>1</td>\n",
              "      <td>0</td>\n",
              "      <td>0</td>\n",
              "      <td>0</td>\n",
              "    </tr>\n",
              "    <tr>\n",
              "      <th>1206</th>\n",
              "      <td>034334446bafa2e1</td>\n",
              "      <td>proposed move to stiffness to weight ratio why...</td>\n",
              "      <td>0</td>\n",
              "      <td>0</td>\n",
              "      <td>0</td>\n",
              "      <td>0</td>\n",
              "      <td>0</td>\n",
              "      <td>0</td>\n",
              "    </tr>\n",
              "    <tr>\n",
              "      <th>1235</th>\n",
              "      <td>03516d7b4b7ff4e6</td>\n",
              "      <td>npov tag an anonymous user removed the npov ta...</td>\n",
              "      <td>0</td>\n",
              "      <td>0</td>\n",
              "      <td>0</td>\n",
              "      <td>0</td>\n",
              "      <td>0</td>\n",
              "      <td>0</td>\n",
              "    </tr>\n",
              "    <tr>\n",
              "      <th>1248</th>\n",
              "      <td>03585d8dd27a3653</td>\n",
              "      <td>please do not delete hi i am please do not del...</td>\n",
              "      <td>0</td>\n",
              "      <td>0</td>\n",
              "      <td>0</td>\n",
              "      <td>0</td>\n",
              "      <td>0</td>\n",
              "      <td>0</td>\n",
              "    </tr>\n",
              "    <tr>\n",
              "      <th>1275</th>\n",
              "      <td>03745d0f2ee0b21c</td>\n",
              "      <td>is it still a stub</td>\n",
              "      <td>0</td>\n",
              "      <td>0</td>\n",
              "      <td>0</td>\n",
              "      <td>0</td>\n",
              "      <td>0</td>\n",
              "      <td>0</td>\n",
              "    </tr>\n",
              "  </tbody>\n",
              "</table>\n",
              "</div>\n",
              "      <button class=\"colab-df-convert\" onclick=\"convertToInteractive('df-4019551f-e9ce-4e45-96db-41db566a5fc3')\"\n",
              "              title=\"Convert this dataframe to an interactive table.\"\n",
              "              style=\"display:none;\">\n",
              "        \n",
              "  <svg xmlns=\"http://www.w3.org/2000/svg\" height=\"24px\"viewBox=\"0 0 24 24\"\n",
              "       width=\"24px\">\n",
              "    <path d=\"M0 0h24v24H0V0z\" fill=\"none\"/>\n",
              "    <path d=\"M18.56 5.44l.94 2.06.94-2.06 2.06-.94-2.06-.94-.94-2.06-.94 2.06-2.06.94zm-11 1L8.5 8.5l.94-2.06 2.06-.94-2.06-.94L8.5 2.5l-.94 2.06-2.06.94zm10 10l.94 2.06.94-2.06 2.06-.94-2.06-.94-.94-2.06-.94 2.06-2.06.94z\"/><path d=\"M17.41 7.96l-1.37-1.37c-.4-.4-.92-.59-1.43-.59-.52 0-1.04.2-1.43.59L10.3 9.45l-7.72 7.72c-.78.78-.78 2.05 0 2.83L4 21.41c.39.39.9.59 1.41.59.51 0 1.02-.2 1.41-.59l7.78-7.78 2.81-2.81c.8-.78.8-2.07 0-2.86zM5.41 20L4 18.59l7.72-7.72 1.47 1.35L5.41 20z\"/>\n",
              "  </svg>\n",
              "      </button>\n",
              "      \n",
              "  <style>\n",
              "    .colab-df-container {\n",
              "      display:flex;\n",
              "      flex-wrap:wrap;\n",
              "      gap: 12px;\n",
              "    }\n",
              "\n",
              "    .colab-df-convert {\n",
              "      background-color: #E8F0FE;\n",
              "      border: none;\n",
              "      border-radius: 50%;\n",
              "      cursor: pointer;\n",
              "      display: none;\n",
              "      fill: #1967D2;\n",
              "      height: 32px;\n",
              "      padding: 0 0 0 0;\n",
              "      width: 32px;\n",
              "    }\n",
              "\n",
              "    .colab-df-convert:hover {\n",
              "      background-color: #E2EBFA;\n",
              "      box-shadow: 0px 1px 2px rgba(60, 64, 67, 0.3), 0px 1px 3px 1px rgba(60, 64, 67, 0.15);\n",
              "      fill: #174EA6;\n",
              "    }\n",
              "\n",
              "    [theme=dark] .colab-df-convert {\n",
              "      background-color: #3B4455;\n",
              "      fill: #D2E3FC;\n",
              "    }\n",
              "\n",
              "    [theme=dark] .colab-df-convert:hover {\n",
              "      background-color: #434B5C;\n",
              "      box-shadow: 0px 1px 3px 1px rgba(0, 0, 0, 0.15);\n",
              "      filter: drop-shadow(0px 1px 2px rgba(0, 0, 0, 0.3));\n",
              "      fill: #FFFFFF;\n",
              "    }\n",
              "  </style>\n",
              "\n",
              "      <script>\n",
              "        const buttonEl =\n",
              "          document.querySelector('#df-4019551f-e9ce-4e45-96db-41db566a5fc3 button.colab-df-convert');\n",
              "        buttonEl.style.display =\n",
              "          google.colab.kernel.accessAllowed ? 'block' : 'none';\n",
              "\n",
              "        async function convertToInteractive(key) {\n",
              "          const element = document.querySelector('#df-4019551f-e9ce-4e45-96db-41db566a5fc3');\n",
              "          const dataTable =\n",
              "            await google.colab.kernel.invokeFunction('convertToInteractive',\n",
              "                                                     [key], {});\n",
              "          if (!dataTable) return;\n",
              "\n",
              "          const docLinkHtml = 'Like what you see? Visit the ' +\n",
              "            '<a target=\"_blank\" href=https://colab.research.google.com/notebooks/data_table.ipynb>data table notebook</a>'\n",
              "            + ' to learn more about interactive tables.';\n",
              "          element.innerHTML = '';\n",
              "          dataTable['output_type'] = 'display_data';\n",
              "          await google.colab.output.renderOutput(dataTable, element);\n",
              "          const docLink = document.createElement('div');\n",
              "          docLink.innerHTML = docLinkHtml;\n",
              "          element.appendChild(docLink);\n",
              "        }\n",
              "      </script>\n",
              "    </div>\n",
              "  </div>\n",
              "  "
            ]
          },
          "metadata": {},
          "execution_count": 89
        }
      ]
    },
    {
      "cell_type": "markdown",
      "source": [
        "# Passage du texte dans un format structuré"
      ],
      "metadata": {
        "id": "-8AEuTKsSuLs"
      }
    },
    {
      "cell_type": "markdown",
      "source": [
        "Hyperparamètres"
      ],
      "metadata": {
        "id": "vgzv0IAu4tMt"
      }
    },
    {
      "cell_type": "code",
      "source": [
        "oov_token = \"<UNK>\"\n",
        "truncating = 'post'\n",
        "padding = 'post'"
      ],
      "metadata": {
        "id": "vnO3eJn-4vIx"
      },
      "execution_count": null,
      "outputs": []
    },
    {
      "cell_type": "markdown",
      "source": [
        "Tokenizer"
      ],
      "metadata": {
        "id": "mQXcdyhS4xsk"
      }
    },
    {
      "cell_type": "code",
      "source": [
        "# Your Code\n",
        "tokenizer = tf.keras.preprocessing.text.Tokenizer(\n",
        "    num_words=None,\n",
        "    filters='!\"#$%&()*+,-./:;<=>?@[\\\\]^_`{|}~\\t\\n',\n",
        "    lower=True, split=' ', char_level=False, oov_token=oov_token,\n",
        "    document_count=0, \n",
        ")\n",
        "sentences_words = tokenizer.fit_on_texts(data['comment_text'])\n",
        "word_index = tokenizer.word_index\n",
        "print(word_index[\"the\"])"
      ],
      "metadata": {
        "id": "AfiItZEITBK3",
        "colab": {
          "base_uri": "https://localhost:8080/"
        },
        "outputId": "2b1ba388-f877-4379-8929-fd94dd15006e"
      },
      "execution_count": null,
      "outputs": [
        {
          "output_type": "stream",
          "name": "stdout",
          "text": [
            "2\n"
          ]
        }
      ]
    },
    {
      "cell_type": "code",
      "source": [
        "vocab_size = len(word_index)\n",
        "print(vocab_size)"
      ],
      "metadata": {
        "id": "tjOiYVkc5SCm",
        "colab": {
          "base_uri": "https://localhost:8080/"
        },
        "outputId": "3a3693c8-1003-4f5d-b0f8-75ff1ee36ee2"
      },
      "execution_count": null,
      "outputs": [
        {
          "output_type": "stream",
          "name": "stdout",
          "text": [
            "33011\n"
          ]
        }
      ]
    },
    {
      "cell_type": "code",
      "source": [
        "x = tokenizer.texts_to_sequences(data['comment_text'])"
      ],
      "metadata": {
        "id": "cqsQpXiJ5Utz"
      },
      "execution_count": null,
      "outputs": []
    },
    {
      "cell_type": "code",
      "source": [
        "print(\"Longueur du premier commentaire : {}\".format(len(x[0])))\n",
        "print(\"Longueur du deuxième commentaire : {}\".format(len(x[1])))"
      ],
      "metadata": {
        "id": "0ykmJqGv5ZP9",
        "colab": {
          "base_uri": "https://localhost:8080/"
        },
        "outputId": "78ce8e10-6db3-4d13-bc2b-0483b2e6bd74"
      },
      "execution_count": null,
      "outputs": [
        {
          "output_type": "stream",
          "name": "stdout",
          "text": [
            "Longueur du premier commentaire : 113\n",
            "Longueur du deuxième commentaire : 50\n"
          ]
        }
      ]
    },
    {
      "cell_type": "markdown",
      "source": [
        "Ajout du padding pour avoir une taille fixe en entrée du RNN"
      ],
      "metadata": {
        "id": "C4xI8Q6WuPiU"
      }
    },
    {
      "cell_type": "code",
      "source": [
        "x = tf.keras.preprocessing.sequence.pad_sequences(x, maxlen=max_length, padding=padding, truncating=truncating)"
      ],
      "metadata": {
        "id": "yQm94vqhuO1k"
      },
      "execution_count": null,
      "outputs": []
    },
    {
      "cell_type": "code",
      "source": [
        "x[1]"
      ],
      "metadata": {
        "id": "LLsNYXydueBc",
        "colab": {
          "base_uri": "https://localhost:8080/"
        },
        "outputId": "fb403c22-71eb-4215-84ff-580a8337769d"
      },
      "execution_count": null,
      "outputs": [
        {
          "output_type": "execute_result",
          "data": {
            "text/plain": [
              "array([  433,    38,     9,    11,    45,    38,     9,    11,    29,\n",
              "        3131,   409,     5,    59,   579, 14899,    16,   100,    36,\n",
              "        5105,  6673, 14900,    67,  2808,    83,    56,    53,    67,\n",
              "        2444,    89,   255, 10130,    87, 14901,     6,  6674, 14902,\n",
              "          36,   579,   187, 14903,     3,  1359,    83,    66,   774,\n",
              "          96,   250,    40,  5770,   852,     0,     0,     0,     0,\n",
              "           0,     0,     0,     0,     0,     0,     0,     0,     0,\n",
              "           0,     0,     0,     0,     0,     0,     0,     0,     0,\n",
              "           0,     0,     0,     0,     0,     0,     0,     0,     0,\n",
              "           0,     0,     0,     0,     0,     0,     0,     0,     0,\n",
              "           0,     0,     0,     0,     0,     0,     0,     0,     0,\n",
              "           0,     0,     0,     0,     0,     0,     0,     0,     0,\n",
              "           0,     0,     0,     0,     0,     0,     0,     0,     0,\n",
              "           0,     0,     0,     0,     0,     0,     0,     0,     0,\n",
              "           0,     0,     0,     0,     0,     0,     0,     0,     0,\n",
              "           0,     0,     0,     0,     0,     0,     0,     0,     0,\n",
              "           0,     0,     0,     0,     0,     0,     0,     0,     0,\n",
              "           0,     0,     0,     0,     0,     0,     0,     0,     0,\n",
              "           0,     0,     0,     0,     0,     0,     0,     0,     0,\n",
              "           0,     0,     0,     0,     0,     0,     0,     0,     0,\n",
              "           0,     0,     0,     0,     0,     0,     0,     0,     0,\n",
              "           0,     0,     0,     0,     0,     0,     0,     0,     0,\n",
              "           0,     0,     0,     0,     0,     0,     0,     0,     0,\n",
              "           0,     0,     0,     0,     0,     0,     0,     0,     0,\n",
              "           0,     0,     0,     0,     0,     0,     0,     0,     0,\n",
              "           0,     0,     0,     0,     0,     0,     0,     0,     0,\n",
              "           0,     0,     0,     0,     0,     0,     0,     0,     0,\n",
              "           0,     0,     0,     0,     0,     0,     0,     0,     0,\n",
              "           0,     0,     0,     0,     0,     0,     0,     0,     0,\n",
              "           0,     0,     0,     0,     0,     0,     0,     0,     0,\n",
              "           0,     0,     0,     0,     0,     0,     0,     0,     0,\n",
              "           0,     0,     0,     0,     0,     0,     0,     0,     0,\n",
              "           0,     0,     0,     0,     0,     0,     0,     0,     0,\n",
              "           0,     0,     0,     0,     0,     0,     0,     0,     0,\n",
              "           0,     0,     0,     0,     0,     0,     0,     0,     0,\n",
              "           0,     0,     0,     0,     0,     0,     0,     0,     0,\n",
              "           0,     0,     0,     0,     0,     0,     0,     0,     0,\n",
              "           0,     0,     0,     0,     0,     0,     0,     0,     0,\n",
              "           0,     0,     0,     0,     0,     0,     0,     0,     0,\n",
              "           0,     0,     0,     0,     0,     0,     0,     0,     0,\n",
              "           0,     0,     0,     0,     0,     0,     0,     0,     0,\n",
              "           0,     0,     0,     0,     0,     0,     0,     0,     0,\n",
              "           0,     0,     0,     0,     0,     0,     0,     0,     0,\n",
              "           0,     0,     0,     0,     0,     0,     0,     0,     0,\n",
              "           0,     0,     0,     0,     0,     0,     0,     0,     0,\n",
              "           0,     0,     0,     0,     0,     0,     0,     0,     0,\n",
              "           0,     0,     0,     0,     0,     0,     0,     0,     0,\n",
              "           0,     0,     0,     0,     0,     0,     0,     0,     0,\n",
              "           0,     0,     0,     0,     0,     0,     0,     0,     0,\n",
              "           0,     0,     0,     0,     0,     0,     0,     0,     0,\n",
              "           0,     0,     0,     0,     0,     0,     0,     0,     0,\n",
              "           0,     0,     0,     0,     0,     0,     0,     0,     0,\n",
              "           0,     0,     0,     0,     0,     0,     0,     0,     0,\n",
              "           0,     0,     0,     0,     0,     0,     0,     0,     0,\n",
              "           0,     0,     0,     0,     0,     0,     0,     0,     0,\n",
              "           0,     0,     0,     0,     0,     0,     0,     0,     0,\n",
              "           0,     0,     0,     0,     0,     0,     0,     0,     0,\n",
              "           0,     0,     0,     0,     0,     0,     0,     0,     0,\n",
              "           0,     0,     0,     0,     0,     0,     0,     0,     0,\n",
              "           0,     0,     0,     0,     0,     0,     0,     0,     0,\n",
              "           0,     0,     0,     0,     0,     0,     0,     0,     0,\n",
              "           0,     0,     0,     0,     0,     0,     0,     0,     0,\n",
              "           0,     0,     0,     0,     0,     0,     0,     0,     0,\n",
              "           0,     0,     0,     0,     0,     0,     0,     0,     0,\n",
              "           0,     0,     0,     0,     0,     0,     0,     0,     0,\n",
              "           0,     0,     0,     0,     0,     0,     0,     0,     0,\n",
              "           0,     0,     0,     0,     0,     0,     0,     0,     0,\n",
              "           0,     0,     0,     0,     0,     0,     0,     0,     0,\n",
              "           0,     0,     0,     0,     0,     0,     0,     0,     0,\n",
              "           0,     0,     0,     0,     0,     0,     0,     0,     0,\n",
              "           0,     0,     0,     0,     0,     0,     0,     0,     0,\n",
              "           0,     0,     0,     0,     0,     0,     0,     0,     0,\n",
              "           0,     0,     0,     0,     0,     0,     0,     0,     0,\n",
              "           0,     0,     0,     0,     0,     0,     0,     0,     0,\n",
              "           0,     0,     0,     0,     0,     0,     0,     0,     0,\n",
              "           0,     0,     0,     0,     0,     0,     0,     0,     0,\n",
              "           0,     0,     0,     0,     0,     0,     0,     0,     0,\n",
              "           0,     0,     0,     0,     0,     0,     0,     0,     0,\n",
              "           0,     0,     0,     0,     0,     0,     0,     0,     0,\n",
              "           0,     0,     0,     0,     0,     0,     0,     0,     0,\n",
              "           0,     0,     0,     0,     0,     0,     0,     0,     0,\n",
              "           0,     0,     0,     0,     0,     0,     0,     0,     0,\n",
              "           0,     0,     0,     0,     0,     0,     0,     0,     0,\n",
              "           0,     0,     0,     0,     0,     0,     0,     0,     0,\n",
              "           0,     0,     0,     0,     0,     0,     0,     0,     0,\n",
              "           0,     0,     0,     0,     0,     0,     0,     0,     0,\n",
              "           0,     0,     0,     0,     0,     0,     0,     0,     0,\n",
              "           0,     0,     0,     0,     0,     0,     0,     0,     0,\n",
              "           0,     0,     0,     0,     0,     0,     0,     0,     0,\n",
              "           0,     0,     0,     0,     0,     0,     0,     0,     0,\n",
              "           0,     0,     0,     0,     0,     0,     0,     0,     0,\n",
              "           0,     0,     0,     0,     0,     0,     0,     0,     0,\n",
              "           0,     0,     0,     0,     0,     0,     0,     0,     0,\n",
              "           0,     0,     0,     0,     0,     0,     0,     0,     0,\n",
              "           0,     0,     0,     0,     0,     0,     0,     0,     0,\n",
              "           0,     0,     0,     0,     0,     0,     0,     0,     0,\n",
              "           0,     0,     0,     0,     0,     0,     0,     0,     0,\n",
              "           0,     0,     0,     0,     0,     0,     0,     0,     0,\n",
              "           0,     0,     0,     0,     0,     0,     0,     0,     0,\n",
              "           0,     0,     0,     0,     0,     0,     0,     0,     0,\n",
              "           0,     0,     0,     0,     0,     0,     0,     0,     0,\n",
              "           0,     0,     0,     0,     0,     0,     0,     0,     0,\n",
              "           0,     0,     0,     0,     0,     0,     0,     0,     0,\n",
              "           0,     0,     0,     0,     0,     0,     0,     0,     0,\n",
              "           0,     0,     0,     0,     0,     0,     0,     0,     0,\n",
              "           0,     0,     0,     0,     0,     0,     0,     0,     0,\n",
              "           0,     0,     0,     0,     0,     0,     0,     0,     0,\n",
              "           0,     0,     0,     0,     0,     0,     0,     0,     0,\n",
              "           0,     0,     0,     0,     0,     0,     0,     0,     0,\n",
              "           0], dtype=int32)"
            ]
          },
          "metadata": {},
          "execution_count": 96
        }
      ]
    },
    {
      "cell_type": "markdown",
      "source": [
        "# Initialisation du modèle baseline"
      ],
      "metadata": {
        "id": "-neKPiEewXy6"
      }
    },
    {
      "cell_type": "code",
      "source": [
        "embedding_dim = 150\n",
        "# tf.keras.utils.set_random_seed(123)\n"
      ],
      "metadata": {
        "id": "FD_JJ8dJwfiy"
      },
      "execution_count": null,
      "outputs": []
    },
    {
      "cell_type": "code",
      "source": [
        "model = Sequential([\n",
        "    Embedding(vocab_size+1, embedding_dim, input_length=max_length),\n",
        "    GRU(units=average_size),\n",
        "    Dense(6, activation='sigmoid')\n",
        "])"
      ],
      "metadata": {
        "id": "KWGimaNXwjo9"
      },
      "execution_count": null,
      "outputs": []
    },
    {
      "cell_type": "code",
      "source": [
        "model.compile(loss='binary_crossentropy',optimizer=Adam(learning_rate=0.05),metrics=['accuracy'])"
      ],
      "metadata": {
        "id": "ZwjIjM2Lxqp7"
      },
      "execution_count": null,
      "outputs": []
    },
    {
      "cell_type": "code",
      "source": [
        "model.summary()"
      ],
      "metadata": {
        "id": "w2cXHXsHy5s2",
        "colab": {
          "base_uri": "https://localhost:8080/"
        },
        "outputId": "babba684-8123-4628-8286-c25436ee27f6"
      },
      "execution_count": null,
      "outputs": [
        {
          "output_type": "stream",
          "name": "stdout",
          "text": [
            "Model: \"sequential_1\"\n",
            "_________________________________________________________________\n",
            " Layer (type)                Output Shape              Param #   \n",
            "=================================================================\n",
            " embedding_1 (Embedding)     (None, 982, 150)          4951800   \n",
            "                                                                 \n",
            " gru_1 (GRU)                 (None, 67)                44019     \n",
            "                                                                 \n",
            " dense_1 (Dense)             (None, 6)                 408       \n",
            "                                                                 \n",
            "=================================================================\n",
            "Total params: 4,996,227\n",
            "Trainable params: 4,996,227\n",
            "Non-trainable params: 0\n",
            "_________________________________________________________________\n"
          ]
        }
      ]
    },
    {
      "cell_type": "markdown",
      "source": [
        "# Entraînement du modèle baseline"
      ],
      "metadata": {
        "id": "LxNIQgESTCmE"
      }
    },
    {
      "cell_type": "markdown",
      "source": [
        "Hyperparamètres"
      ],
      "metadata": {
        "id": "NCVu0ZgFy9zV"
      }
    },
    {
      "cell_type": "code",
      "source": [
        "num_epochs = 30"
      ],
      "metadata": {
        "id": "kLdWKcufzBTH"
      },
      "execution_count": null,
      "outputs": []
    },
    {
      "cell_type": "markdown",
      "source": [
        "Séparation des Données"
      ],
      "metadata": {
        "id": "lvW38PN8kGFM"
      }
    },
    {
      "cell_type": "code",
      "source": [
        "# Your Code\n",
        "x_train, x_test, y_train, y_test = train_test_split(x, data.iloc[:,2:8], test_size=.5, random_state=10)\n"
      ],
      "metadata": {
        "id": "YgkPpzIzSQUi"
      },
      "execution_count": null,
      "outputs": []
    },
    {
      "cell_type": "code",
      "source": [
        "# print(y_test)"
      ],
      "metadata": {
        "id": "4JrdI6CMzYEl"
      },
      "execution_count": null,
      "outputs": []
    },
    {
      "cell_type": "markdown",
      "source": [
        "Ajout d'un learning rate variable et de la sauvegarde des poids"
      ],
      "metadata": {
        "id": "nAbHp7aATb9G"
      }
    },
    {
      "cell_type": "code",
      "source": [
        "def scheduler(epoch, lr):\n",
        "  if epoch == 1 :\n",
        "    return lr\n",
        "  elif epoch == 5 or epoch == 10:\n",
        "    return lr * 0.3\n",
        "  else :\n",
        "    return lr * np.power(0.99,(epoch / 400))\n",
        "\n",
        "callback = tf.keras.callbacks.LearningRateScheduler(scheduler)"
      ],
      "metadata": {
        "id": "pR-kWqgz0SAH"
      },
      "execution_count": null,
      "outputs": []
    },
    {
      "cell_type": "code",
      "source": [
        "save_model = tf.keras.callbacks.ModelCheckpoint(\n",
        "    '/content/model_{epoch:02d}.h5', monitor='val_loss', verbose=0, save_best_only=True,\n",
        "    save_weights_only=False, mode='auto', save_freq='epoch',\n",
        "    options=None, initial_value_threshold=None\n",
        ")"
      ],
      "metadata": {
        "id": "0attNKHK55W2"
      },
      "execution_count": null,
      "outputs": []
    },
    {
      "cell_type": "markdown",
      "source": [
        "# Itération de la modélisation "
      ],
      "metadata": {
        "id": "2a8IWbTFTHXh"
      }
    },
    {
      "cell_type": "code",
      "source": [
        "# !rm -rf model*\n"
      ],
      "metadata": {
        "id": "13D4xXWJ5_ZE"
      },
      "execution_count": null,
      "outputs": []
    },
    {
      "cell_type": "code",
      "source": [
        "history = model.fit(x_train , y_train , batch_size = 32 , epochs = num_epochs, validation_data=(x_test,y_test), callbacks=[callback , save_model])\n",
        "  \n",
        "print(\"Training Complete\")"
      ],
      "metadata": {
        "id": "rvnF8-H-6B9_",
        "colab": {
          "base_uri": "https://localhost:8080/"
        },
        "outputId": "32bc8f5d-ceb9-42a6-8cbc-f25d52c76762"
      },
      "execution_count": null,
      "outputs": [
        {
          "output_type": "stream",
          "name": "stdout",
          "text": [
            "Epoch 1/15\n",
            "125/125 [==============================] - 30s 225ms/step - loss: 0.1628 - accuracy: 0.6922 - val_loss: 0.1480 - val_accuracy: 0.9937 - lr: 0.0500\n",
            "Epoch 2/15\n",
            "125/125 [==============================] - 27s 220ms/step - loss: 0.1507 - accuracy: 0.6606 - val_loss: 0.1678 - val_accuracy: 0.9937 - lr: 0.0500\n",
            "Epoch 3/15\n",
            "125/125 [==============================] - 22s 180ms/step - loss: 0.1320 - accuracy: 0.6458 - val_loss: 0.1344 - val_accuracy: 0.9927 - lr: 0.0500\n",
            "Epoch 4/15\n",
            "125/125 [==============================] - 23s 181ms/step - loss: 0.1263 - accuracy: 0.7272 - val_loss: 0.1439 - val_accuracy: 0.9301 - lr: 0.0500\n",
            "Epoch 5/15\n",
            "125/125 [==============================] - 26s 212ms/step - loss: 0.1272 - accuracy: 0.8200 - val_loss: 0.1578 - val_accuracy: 0.0938 - lr: 0.0500\n",
            "Epoch 6/15\n",
            "125/125 [==============================] - 22s 179ms/step - loss: 0.1152 - accuracy: 0.7210 - val_loss: 0.1391 - val_accuracy: 0.7721 - lr: 0.0250\n",
            "Epoch 7/15\n",
            "125/125 [==============================] - 22s 177ms/step - loss: 0.1049 - accuracy: 0.7232 - val_loss: 0.1256 - val_accuracy: 0.7343 - lr: 0.0250\n",
            "Epoch 8/15\n",
            "125/125 [==============================] - 27s 218ms/step - loss: 0.1010 - accuracy: 0.8320 - val_loss: 0.1356 - val_accuracy: 0.1188 - lr: 0.0250\n",
            "Epoch 9/15\n",
            "125/125 [==============================] - 27s 217ms/step - loss: 0.0989 - accuracy: 0.8348 - val_loss: 0.1247 - val_accuracy: 0.9338 - lr: 0.0250\n",
            "Epoch 10/15\n",
            "125/125 [==============================] - 23s 181ms/step - loss: 0.0962 - accuracy: 0.8097 - val_loss: 0.1361 - val_accuracy: 0.9915 - lr: 0.0250\n",
            "Epoch 11/15\n",
            "125/125 [==============================] - 22s 177ms/step - loss: 0.0933 - accuracy: 0.8714 - val_loss: 0.1294 - val_accuracy: 0.5086 - lr: 0.0250\n",
            "Epoch 12/15\n",
            "125/125 [==============================] - 23s 182ms/step - loss: 0.0915 - accuracy: 0.8188 - val_loss: 0.1295 - val_accuracy: 0.9554 - lr: 0.0250\n",
            "Epoch 13/15\n",
            "125/125 [==============================] - 22s 177ms/step - loss: 0.0886 - accuracy: 0.8857 - val_loss: 0.1341 - val_accuracy: 0.4974 - lr: 0.0250\n",
            "Epoch 14/15\n",
            "125/125 [==============================] - 22s 176ms/step - loss: 0.0953 - accuracy: 0.6698 - val_loss: 0.1407 - val_accuracy: 0.9937 - lr: 0.0250\n",
            "Epoch 15/15\n",
            "125/125 [==============================] - 27s 215ms/step - loss: 0.0907 - accuracy: 0.8082 - val_loss: 0.1307 - val_accuracy: 0.8629 - lr: 0.0249\n",
            "Training Complete\n"
          ]
        }
      ]
    },
    {
      "cell_type": "code",
      "source": [
        "import matplotlib.image  as mpimg\n",
        "import matplotlib.pyplot as plt\n",
        "\n",
        "#-----------------------------------------------------------\n",
        "# Retrieve a list of list results on training and test data\n",
        "# sets for each training epoch\n",
        "#-----------------------------------------------------------\n",
        "acc=model.history.history['accuracy']\n",
        "val_acc=model.history.history['val_accuracy']\n",
        "loss=model.history.history['loss']\n",
        "val_loss=model.history.history['val_loss']\n",
        "\n",
        "epochs=range(len(acc)) # Get number of epochs\n",
        "\n",
        "#------------------------------------------------\n",
        "# Plot training and validation accuracy per epoch\n",
        "#------------------------------------------------\n",
        "plt.plot(epochs, acc, 'r')\n",
        "plt.plot(epochs, val_acc, 'b')\n",
        "plt.title('Training and validation accuracy')\n",
        "plt.xlabel(\"Epochs\")\n",
        "plt.ylabel(\"Accuracy\")\n",
        "plt.legend([\"Accuracy\", \"Validation Accuracy\"])\n",
        "\n",
        "plt.show()\n",
        "\n",
        "#------------------------------------------------\n",
        "# Plot training and validation loss per epoch\n",
        "#------------------------------------------------\n",
        "plt.plot(epochs, loss, 'r')\n",
        "plt.plot(epochs, val_loss, 'b')\n",
        "plt.title('Training and validation loss')\n",
        "plt.xlabel(\"Epochs\")\n",
        "plt.ylabel(\"Loss\")\n",
        "plt.legend([\"Loss\", \"Validation Loss\"])\n",
        "\n",
        "plt.show()"
      ],
      "metadata": {
        "id": "o2fWzYb62aOG",
        "colab": {
          "base_uri": "https://localhost:8080/",
          "height": 573
        },
        "outputId": "510111de-bcdf-4f65-f8e7-6e7eaec4ae00"
      },
      "execution_count": null,
      "outputs": [
        {
          "output_type": "display_data",
          "data": {
            "text/plain": [
              "<Figure size 432x288 with 1 Axes>"
            ],
            "image/png": "[encoded data removed]"
          },
          "metadata": {
            "needs_background": "light"
          }
        },
        {
          "output_type": "display_data",
          "data": {
            "text/plain": [
              "<Figure size 432x288 with 1 Axes>"
            ],
            "image/png": "[encoded data removed]"
          },
          "metadata": {
            "needs_background": "light"
          }
        }
      ]
    },
    {
      "cell_type": "code",
      "source": [
        "y_pred = model.predict(x_test)\n",
        "print(y_pred)"
      ],
      "metadata": {
        "colab": {
          "base_uri": "https://localhost:8080/"
        },
        "id": "bubdxHnWfBL1",
        "outputId": "f4a41a87-7a63-47fb-abdd-8d1e11b35ef5"
      },
      "execution_count": null,
      "outputs": [
        {
          "output_type": "stream",
          "name": "stdout",
          "text": [
            "[[8.35442636e-03 3.29891278e-04 4.92685661e-03 1.37753508e-04\n",
            "  4.82519530e-03 1.43745751e-03]\n",
            " [6.11696625e-03 2.51696241e-04 2.99456529e-03 2.24118921e-04\n",
            "  2.86284718e-03 3.00046639e-03]\n",
            " [5.22844214e-03 1.47926170e-04 6.61014579e-03 6.04215275e-05\n",
            "  3.10194935e-03 8.72249994e-03]\n",
            " ...\n",
            " [1.33601315e-02 2.46164767e-04 5.75582683e-03 2.23406139e-04\n",
            "  6.03678590e-03 3.13346367e-03]\n",
            " [3.15239206e-02 8.25475785e-04 1.36678480e-02 2.83610658e-04\n",
            "  1.64778866e-02 8.17037188e-03]\n",
            " [6.11696625e-03 2.51696241e-04 2.99456529e-03 2.24118921e-04\n",
            "  2.86284718e-03 3.00046639e-03]]\n"
          ]
        }
      ]
    },
    {
      "cell_type": "markdown",
      "source": [
        "# Initialisation du modèle pré-entrainé"
      ],
      "metadata": {
        "id": "GBcoKWqfkkAO"
      }
    },
    {
      "cell_type": "markdown",
      "source": [
        "Hyperparamètres"
      ],
      "metadata": {
        "id": "Ud1DbA6doKMj"
      }
    },
    {
      "cell_type": "code",
      "source": [
        "embedding_dim = 100    # Dimensions used for glove6b100\n",
        "max_length = 20        # Maximum size of a tweet"
      ],
      "metadata": {
        "id": "EpDRG6vy7V0E"
      },
      "execution_count": null,
      "outputs": []
    },
    {
      "cell_type": "code",
      "source": [
        "embeddings_index = {};\n",
        "\n",
        "with open('/content/drive/MyDrive/RNN_sentiment_dataset/glove.6B.100d.txt') as f:\n",
        "    for line in f:\n",
        "        values = line.split();\n",
        "        word = values[0];\n",
        "        coefs = np.asarray(values[1:], dtype='float32');\n",
        "        embeddings_index[word] = coefs;\n",
        "\n",
        "embeddings_matrix = np.zeros((vocab_size+1, embedding_dim));\n",
        "for word, i in word_index.items():\n",
        "    embedding_vector = embeddings_index.get(word);\n",
        "    if embedding_vector is not None:\n",
        "        embeddings_matrix[i] = embedding_vector;"
      ],
      "metadata": {
        "id": "903AMTE_7Z6A"
      },
      "execution_count": null,
      "outputs": []
    },
    {
      "cell_type": "markdown",
      "source": [
        "Initialisation du modèle"
      ],
      "metadata": {
        "id": "PNUkBgIh7fPm"
      }
    },
    {
      "cell_type": "code",
      "source": [
        "tf.keras.utils.set_random_seed(123)\n",
        "\n",
        "model_emb = Sequential(\n",
        "    [\n",
        "        tf.keras.layers.Embedding(input_dim=vocab_size+1, output_dim=embedding_dim, input_length=max_length , weights=[embeddings_matrix], trainable=False),\n",
        "        tf.keras.layers.GRU(64),\n",
        "        tf.keras.layers.Dense(1,activation='sigmoid'),\n",
        "    ]\n",
        ")"
      ],
      "metadata": {
        "id": "1Kql8wXm7eJb"
      },
      "execution_count": null,
      "outputs": []
    },
    {
      "cell_type": "markdown",
      "source": [
        "Compilation du modèle"
      ],
      "metadata": {
        "id": "hrftLmdu7lGS"
      }
    },
    {
      "cell_type": "code",
      "source": [
        "model_emb.compile(loss='binary_crossentropy',optimizer=Adam(learning_rate=0.001),metrics=['accuracy'])"
      ],
      "metadata": {
        "id": "UKVT6dzQ7pA5"
      },
      "execution_count": null,
      "outputs": []
    },
    {
      "cell_type": "markdown",
      "source": [
        "### Summary du model"
      ],
      "metadata": {
        "id": "mCsXHfdUiMgp"
      }
    },
    {
      "cell_type": "code",
      "source": [
        "model_emb.summary()"
      ],
      "metadata": {
        "id": "GUWUhRqriKFp",
        "colab": {
          "base_uri": "https://localhost:8080/"
        },
        "outputId": "97ada2b1-0c03-4854-869c-e2a5edbc7813"
      },
      "execution_count": null,
      "outputs": [
        {
          "output_type": "stream",
          "name": "stdout",
          "text": [
            "Model: \"sequential_2\"\n",
            "_________________________________________________________________\n",
            " Layer (type)                Output Shape              Param #   \n",
            "=================================================================\n",
            " embedding_2 (Embedding)     (None, 20, 100)           3301200   \n",
            "                                                                 \n",
            " gru_2 (GRU)                 (None, 64)                31872     \n",
            "                                                                 \n",
            " dense_2 (Dense)             (None, 1)                 65        \n",
            "                                                                 \n",
            "=================================================================\n",
            "Total params: 3,333,137\n",
            "Trainable params: 31,937\n",
            "Non-trainable params: 3,301,200\n",
            "_________________________________________________________________\n"
          ]
        }
      ]
    },
    {
      "cell_type": "markdown",
      "source": [
        "# Entrainement du modèle Pre-entrainé"
      ],
      "metadata": {
        "id": "SFpfOQL_UWAk"
      }
    },
    {
      "cell_type": "code",
      "source": [
        "num_epochs = 15\n",
        "print(len(x_test))\n",
        "print(len(x_train))"
      ],
      "metadata": {
        "id": "MUB2gsgkvmm0",
        "colab": {
          "base_uri": "https://localhost:8080/"
        },
        "outputId": "3ec4f800-13e1-4d08-df68-62bdc3cb9335"
      },
      "execution_count": null,
      "outputs": [
        {
          "output_type": "stream",
          "name": "stdout",
          "text": [
            "3989\n",
            "3989\n"
          ]
        }
      ]
    },
    {
      "cell_type": "code",
      "source": [
        "save_model2 = tf.keras.callbacks.ModelCheckpoint(\n",
        "    '/content/model_emb_{epoch:02d}.h5', monitor='val_loss', verbose=0, save_best_only=True,\n",
        "    save_weights_only=False, mode='auto', save_freq='epoch',\n",
        "    options=None, initial_value_threshold=None\n",
        ")"
      ],
      "metadata": {
        "id": "RTc0skUGlqmK"
      },
      "execution_count": null,
      "outputs": []
    },
    {
      "cell_type": "code",
      "source": [
        "def scheduler2(epoch, lr):\n",
        "  if epoch == 1 :\n",
        "    return lr\n",
        "  elif epoch == 5 or epoch == 10:\n",
        "    return lr * 0.3\n",
        "  else :\n",
        "    return lr * np.power(0.99,(epoch / 400))\n",
        "\n",
        "callback = tf.keras.callbacks.LearningRateScheduler(scheduler)"
      ],
      "metadata": {
        "id": "bgfKkEM5mR__"
      },
      "execution_count": null,
      "outputs": []
    },
    {
      "cell_type": "code",
      "source": [
        "history = model.fit(x_train, \n",
        "                      y_train, \n",
        "                      epochs=num_epochs, \n",
        "                      validation_data=(x_test, y_test),\n",
        "                      batch_size = 32,\n",
        "                      verbose=1,\n",
        "                    callbacks=[save_model2],)\n",
        "  \n",
        "print(\"Training Complete\")"
      ],
      "metadata": {
        "id": "lYySojg9vmzb",
        "colab": {
          "base_uri": "https://localhost:8080/"
        },
        "outputId": "babdb07a-8991-46fc-f615-ed484f95240e"
      },
      "execution_count": null,
      "outputs": [
        {
          "output_type": "stream",
          "name": "stdout",
          "text": [
            "Epoch 1/50\n",
            "125/125 [==============================] - 24s 189ms/step - loss: 0.0883 - accuracy: 0.7909 - val_loss: 0.1316 - val_accuracy: 0.9589\n",
            "Epoch 2/50\n",
            "125/125 [==============================] - 23s 183ms/step - loss: 0.0888 - accuracy: 0.8298 - val_loss: 0.1425 - val_accuracy: 0.7543\n",
            "Epoch 3/50\n",
            "125/125 [==============================] - 24s 195ms/step - loss: 0.0896 - accuracy: 0.7967 - val_loss: 0.1458 - val_accuracy: 0.7493\n",
            "Epoch 4/50\n",
            "125/125 [==============================] - 24s 192ms/step - loss: 0.0886 - accuracy: 0.8072 - val_loss: 0.1376 - val_accuracy: 0.7774\n",
            "Epoch 5/50\n",
            "125/125 [==============================] - 24s 190ms/step - loss: 0.0904 - accuracy: 0.7115 - val_loss: 0.1483 - val_accuracy: 0.9822\n",
            "Epoch 6/50\n",
            "125/125 [==============================] - 23s 188ms/step - loss: 0.0904 - accuracy: 0.7899 - val_loss: 0.1471 - val_accuracy: 0.8844\n",
            "Epoch 7/50\n",
            "125/125 [==============================] - 23s 181ms/step - loss: 0.0874 - accuracy: 0.7939 - val_loss: 0.1441 - val_accuracy: 0.6696\n",
            "Epoch 8/50\n",
            "125/125 [==============================] - 27s 213ms/step - loss: 0.0866 - accuracy: 0.8105 - val_loss: 0.1365 - val_accuracy: 0.7503\n",
            "Epoch 9/50\n",
            "125/125 [==============================] - 23s 186ms/step - loss: 0.0884 - accuracy: 0.7972 - val_loss: 0.1405 - val_accuracy: 0.9205\n",
            "Epoch 10/50\n",
            "125/125 [==============================] - 23s 181ms/step - loss: 0.0833 - accuracy: 0.8250 - val_loss: 0.1429 - val_accuracy: 0.7626\n",
            "Epoch 11/50\n",
            "125/125 [==============================] - 23s 183ms/step - loss: 0.0812 - accuracy: 0.8393 - val_loss: 0.1402 - val_accuracy: 0.7989\n",
            "Epoch 12/50\n",
            "125/125 [==============================] - 23s 183ms/step - loss: 0.0830 - accuracy: 0.8160 - val_loss: 0.1422 - val_accuracy: 0.5362\n",
            "Epoch 13/50\n",
            "125/125 [==============================] - 23s 181ms/step - loss: 0.0823 - accuracy: 0.7816 - val_loss: 0.1412 - val_accuracy: 0.4645\n",
            "Epoch 14/50\n",
            "125/125 [==============================] - 21s 171ms/step - loss: 0.0815 - accuracy: 0.7974 - val_loss: 0.1511 - val_accuracy: 0.8386\n",
            "Epoch 15/50\n",
            "125/125 [==============================] - 26s 208ms/step - loss: 0.0829 - accuracy: 0.7849 - val_loss: 0.1426 - val_accuracy: 0.9910\n",
            "Epoch 16/50\n",
            "125/125 [==============================] - 23s 186ms/step - loss: 0.0780 - accuracy: 0.7576 - val_loss: 0.1499 - val_accuracy: 0.9536\n",
            "Epoch 17/50\n",
            "125/125 [==============================] - 27s 216ms/step - loss: 0.0785 - accuracy: 0.8661 - val_loss: 0.1515 - val_accuracy: 0.2845\n",
            "Epoch 18/50\n",
            "125/125 [==============================] - 24s 189ms/step - loss: 0.0802 - accuracy: 0.7571 - val_loss: 0.1472 - val_accuracy: 0.9937\n",
            "Epoch 19/50\n",
            "125/125 [==============================] - 23s 185ms/step - loss: 0.0788 - accuracy: 0.7503 - val_loss: 0.1431 - val_accuracy: 0.9787\n",
            "Epoch 20/50\n",
            "125/125 [==============================] - 23s 186ms/step - loss: 0.0835 - accuracy: 0.8132 - val_loss: 0.1498 - val_accuracy: 0.4502\n",
            "Epoch 21/50\n",
            "125/125 [==============================] - 23s 185ms/step - loss: 0.0833 - accuracy: 0.7661 - val_loss: 0.1479 - val_accuracy: 0.7954\n",
            "Epoch 22/50\n",
            "125/125 [==============================] - 28s 224ms/step - loss: 0.0810 - accuracy: 0.6959 - val_loss: 0.1494 - val_accuracy: 0.0138\n",
            "Epoch 23/50\n",
            "125/125 [==============================] - 27s 215ms/step - loss: 0.0847 - accuracy: 0.7979 - val_loss: 0.1428 - val_accuracy: 0.9268\n",
            "Epoch 24/50\n",
            "125/125 [==============================] - 23s 183ms/step - loss: 0.0800 - accuracy: 0.8115 - val_loss: 0.1430 - val_accuracy: 0.8571\n",
            "Epoch 25/50\n",
            "125/125 [==============================] - 22s 177ms/step - loss: 0.0841 - accuracy: 0.8230 - val_loss: 0.1433 - val_accuracy: 0.3101\n",
            "Epoch 26/50\n",
            "125/125 [==============================] - 27s 216ms/step - loss: 0.0815 - accuracy: 0.7089 - val_loss: 0.1370 - val_accuracy: 0.7724\n",
            "Epoch 27/50\n",
            "125/125 [==============================] - 27s 217ms/step - loss: 0.0793 - accuracy: 0.7894 - val_loss: 0.1566 - val_accuracy: 0.8140\n",
            "Epoch 28/50\n",
            "125/125 [==============================] - 28s 222ms/step - loss: 0.0793 - accuracy: 0.7844 - val_loss: 0.1487 - val_accuracy: 0.4367\n",
            "Epoch 29/50\n",
            "125/125 [==============================] - 23s 181ms/step - loss: 0.0783 - accuracy: 0.7889 - val_loss: 0.1855 - val_accuracy: 0.8017\n",
            "Epoch 30/50\n",
            "125/125 [==============================] - 22s 179ms/step - loss: 0.0775 - accuracy: 0.7265 - val_loss: 0.1456 - val_accuracy: 0.4181\n",
            "Epoch 31/50\n",
            "125/125 [==============================] - 22s 176ms/step - loss: 0.0752 - accuracy: 0.6761 - val_loss: 0.1622 - val_accuracy: 0.2464\n",
            "Epoch 32/50\n",
            "125/125 [==============================] - 23s 181ms/step - loss: 0.0754 - accuracy: 0.7471 - val_loss: 0.1429 - val_accuracy: 0.4956\n",
            "Epoch 33/50\n",
            "125/125 [==============================] - 22s 178ms/step - loss: 0.0748 - accuracy: 0.7608 - val_loss: 0.1531 - val_accuracy: 0.8671\n",
            "Epoch 34/50\n",
            "125/125 [==============================] - 27s 218ms/step - loss: 0.0719 - accuracy: 0.6989 - val_loss: 0.1590 - val_accuracy: 0.5904\n",
            "Epoch 35/50\n",
            "125/125 [==============================] - 23s 185ms/step - loss: 0.0695 - accuracy: 0.7623 - val_loss: 0.1490 - val_accuracy: 0.6703\n",
            "Epoch 36/50\n",
            "125/125 [==============================] - 23s 185ms/step - loss: 0.0765 - accuracy: 0.6024 - val_loss: 0.1537 - val_accuracy: 0.8488\n",
            "Epoch 37/50\n",
            "125/125 [==============================] - 23s 183ms/step - loss: 0.0705 - accuracy: 0.6185 - val_loss: 0.1557 - val_accuracy: 0.9642\n",
            "Epoch 38/50\n",
            "125/125 [==============================] - 27s 216ms/step - loss: 0.0725 - accuracy: 0.6816 - val_loss: 0.1704 - val_accuracy: 0.8616\n",
            "Epoch 39/50\n",
            "125/125 [==============================] - 22s 179ms/step - loss: 0.0764 - accuracy: 0.5465 - val_loss: 0.1663 - val_accuracy: 0.3748\n",
            "Epoch 40/50\n",
            "125/125 [==============================] - 27s 215ms/step - loss: 0.0756 - accuracy: 0.6087 - val_loss: 0.1704 - val_accuracy: 0.9890\n",
            "Epoch 41/50\n",
            "125/125 [==============================] - 22s 178ms/step - loss: 0.0745 - accuracy: 0.6275 - val_loss: 0.1627 - val_accuracy: 0.6295\n",
            "Epoch 42/50\n",
            "125/125 [==============================] - 23s 185ms/step - loss: 0.0729 - accuracy: 0.6332 - val_loss: 0.1625 - val_accuracy: 0.5202\n",
            "Epoch 43/50\n",
            "125/125 [==============================] - 22s 179ms/step - loss: 0.0732 - accuracy: 0.6252 - val_loss: 0.1592 - val_accuracy: 0.7877\n",
            "Epoch 44/50\n",
            "125/125 [==============================] - 23s 185ms/step - loss: 0.0755 - accuracy: 0.6638 - val_loss: 0.1621 - val_accuracy: 0.7175\n",
            "Epoch 45/50\n",
            "125/125 [==============================] - 27s 217ms/step - loss: 0.0729 - accuracy: 0.6295 - val_loss: 0.1580 - val_accuracy: 0.9376\n",
            "Epoch 46/50\n",
            "125/125 [==============================] - 23s 184ms/step - loss: 0.0709 - accuracy: 0.6485 - val_loss: 0.1496 - val_accuracy: 0.2296\n",
            "Epoch 47/50\n",
            "125/125 [==============================] - 22s 177ms/step - loss: 0.0689 - accuracy: 0.6786 - val_loss: 0.1431 - val_accuracy: 0.7077\n",
            "Epoch 48/50\n",
            "125/125 [==============================] - 23s 182ms/step - loss: 0.0692 - accuracy: 0.6062 - val_loss: 0.1410 - val_accuracy: 0.8559\n",
            "Epoch 49/50\n",
            "125/125 [==============================] - 23s 182ms/step - loss: 0.0735 - accuracy: 0.5021 - val_loss: 0.1474 - val_accuracy: 0.2088\n",
            "Epoch 50/50\n",
            "125/125 [==============================] - 23s 183ms/step - loss: 0.0715 - accuracy: 0.5051 - val_loss: 0.1563 - val_accuracy: 0.8531\n",
            "Training Complete\n"
          ]
        }
      ]
    },
    {
      "cell_type": "code",
      "source": [
        "y_pred = model_emb.predict()\n",
        "print(y_pred)\n",
        "# pb avec le nb 125/125"
      ],
      "metadata": {
        "colab": {
          "base_uri": "https://localhost:8080/",
          "height": 345
        },
        "id": "rSS7rDGComu3",
        "outputId": "c5368d89-a526-40a2-ef7c-d477ff668d1b"
      },
      "execution_count": null,
      "outputs": [
        {
          "output_type": "error",
          "ename": "TypeError",
          "evalue": "ignored",
          "traceback": [
            "\u001b[0;31m---------------------------------------------------------------------------\u001b[0m",
            "\u001b[0;31mTypeError\u001b[0m                                 Traceback (most recent call last)",
            "\u001b[0;32m<ipython-input-119-978e90e5ae2a>\u001b[0m in \u001b[0;36m<module>\u001b[0;34m()\u001b[0m\n\u001b[0;32m----> 1\u001b[0;31m \u001b[0my_pred\u001b[0m \u001b[0;34m=\u001b[0m \u001b[0mmodel_emb\u001b[0m\u001b[0;34m.\u001b[0m\u001b[0mpredict\u001b[0m\u001b[0;34m(\u001b[0m\u001b[0;34m)\u001b[0m\u001b[0;34m\u001b[0m\u001b[0;34m\u001b[0m\u001b[0m\n\u001b[0m\u001b[1;32m      2\u001b[0m \u001b[0mprint\u001b[0m\u001b[0;34m(\u001b[0m\u001b[0my_pred\u001b[0m\u001b[0;34m)\u001b[0m\u001b[0;34m\u001b[0m\u001b[0;34m\u001b[0m\u001b[0m\n\u001b[1;32m      3\u001b[0m \u001b[0;31m# pb avec le nb 125/125\u001b[0m\u001b[0;34m\u001b[0m\u001b[0;34m\u001b[0m\u001b[0;34m\u001b[0m\u001b[0m\n",
            "\u001b[0;32m/usr/local/lib/python3.7/dist-packages/keras/utils/traceback_utils.py\u001b[0m in \u001b[0;36merror_handler\u001b[0;34m(*args, **kwargs)\u001b[0m\n\u001b[1;32m     65\u001b[0m     \u001b[0;32mexcept\u001b[0m \u001b[0mException\u001b[0m \u001b[0;32mas\u001b[0m \u001b[0me\u001b[0m\u001b[0;34m:\u001b[0m  \u001b[0;31m# pylint: disable=broad-except\u001b[0m\u001b[0;34m\u001b[0m\u001b[0;34m\u001b[0m\u001b[0m\n\u001b[1;32m     66\u001b[0m       \u001b[0mfiltered_tb\u001b[0m \u001b[0;34m=\u001b[0m \u001b[0m_process_traceback_frames\u001b[0m\u001b[0;34m(\u001b[0m\u001b[0me\u001b[0m\u001b[0;34m.\u001b[0m\u001b[0m__traceback__\u001b[0m\u001b[0;34m)\u001b[0m\u001b[0;34m\u001b[0m\u001b[0;34m\u001b[0m\u001b[0m\n\u001b[0;32m---> 67\u001b[0;31m       \u001b[0;32mraise\u001b[0m \u001b[0me\u001b[0m\u001b[0;34m.\u001b[0m\u001b[0mwith_traceback\u001b[0m\u001b[0;34m(\u001b[0m\u001b[0mfiltered_tb\u001b[0m\u001b[0;34m)\u001b[0m \u001b[0;32mfrom\u001b[0m \u001b[0;32mNone\u001b[0m\u001b[0;34m\u001b[0m\u001b[0;34m\u001b[0m\u001b[0m\n\u001b[0m\u001b[1;32m     68\u001b[0m     \u001b[0;32mfinally\u001b[0m\u001b[0;34m:\u001b[0m\u001b[0;34m\u001b[0m\u001b[0;34m\u001b[0m\u001b[0m\n\u001b[1;32m     69\u001b[0m       \u001b[0;32mdel\u001b[0m \u001b[0mfiltered_tb\u001b[0m\u001b[0;34m\u001b[0m\u001b[0;34m\u001b[0m\u001b[0m\n",
            "\u001b[0;32m/usr/local/lib/python3.7/dist-packages/keras/utils/traceback_utils.py\u001b[0m in \u001b[0;36merror_handler\u001b[0;34m(*args, **kwargs)\u001b[0m\n\u001b[1;32m     62\u001b[0m     \u001b[0mfiltered_tb\u001b[0m \u001b[0;34m=\u001b[0m \u001b[0;32mNone\u001b[0m\u001b[0;34m\u001b[0m\u001b[0;34m\u001b[0m\u001b[0m\n\u001b[1;32m     63\u001b[0m     \u001b[0;32mtry\u001b[0m\u001b[0;34m:\u001b[0m\u001b[0;34m\u001b[0m\u001b[0;34m\u001b[0m\u001b[0m\n\u001b[0;32m---> 64\u001b[0;31m       \u001b[0;32mreturn\u001b[0m \u001b[0mfn\u001b[0m\u001b[0;34m(\u001b[0m\u001b[0;34m*\u001b[0m\u001b[0margs\u001b[0m\u001b[0;34m,\u001b[0m \u001b[0;34m**\u001b[0m\u001b[0mkwargs\u001b[0m\u001b[0;34m)\u001b[0m\u001b[0;34m\u001b[0m\u001b[0;34m\u001b[0m\u001b[0m\n\u001b[0m\u001b[1;32m     65\u001b[0m     \u001b[0;32mexcept\u001b[0m \u001b[0mException\u001b[0m \u001b[0;32mas\u001b[0m \u001b[0me\u001b[0m\u001b[0;34m:\u001b[0m  \u001b[0;31m# pylint: disable=broad-except\u001b[0m\u001b[0;34m\u001b[0m\u001b[0;34m\u001b[0m\u001b[0m\n\u001b[1;32m     66\u001b[0m       \u001b[0mfiltered_tb\u001b[0m \u001b[0;34m=\u001b[0m \u001b[0m_process_traceback_frames\u001b[0m\u001b[0;34m(\u001b[0m\u001b[0me\u001b[0m\u001b[0;34m.\u001b[0m\u001b[0m__traceback__\u001b[0m\u001b[0;34m)\u001b[0m\u001b[0;34m\u001b[0m\u001b[0;34m\u001b[0m\u001b[0m\n",
            "\u001b[0;31mTypeError\u001b[0m: predict() missing 1 required positional argument: 'x'"
          ]
        }
      ]
    },
    {
      "cell_type": "code",
      "source": [
        "import matplotlib.image  as mpimg\n",
        "import matplotlib.pyplot as plt\n",
        "\n",
        "#-----------------------------------------------------------\n",
        "# Retrieve a list of list results on training and test data\n",
        "# sets for each training epoch\n",
        "#-----------------------------------------------------------\n",
        "acc_emb=model_emb.history.history['accuracy']\n",
        "val_acc_emb=model_emb.history.history['val_accuracy']\n",
        "loss_emb=model_emb.history.history['loss']\n",
        "val_loss_emb=model_emb.history.history['val_loss']\n",
        "\n",
        "epochs=range(len(acc)) # Get number of epochs\n",
        "\n",
        "#------------------------------------------------\n",
        "# Plot training and validation accuracy per epoch\n",
        "#------------------------------------------------\n",
        "plt.plot(epochs, acc_emb, 'r')\n",
        "plt.plot(epochs, val_acc_emb, 'b')\n",
        "plt.title('Training and validation accuracy')\n",
        "plt.xlabel(\"Epochs\")\n",
        "plt.ylabel(\"Accuracy\")\n",
        "plt.legend([\"Accuracy\", \"Validation Accuracy\"])\n",
        "\n",
        "plt.show()\n",
        "\n",
        "#------------------------------------------------\n",
        "# Plot training and validation loss per epoch\n",
        "#------------------------------------------------\n",
        "plt.plot(epochs, loss_emb, 'r')\n",
        "plt.plot(epochs, val_loss_emb, 'b')\n",
        "plt.title('Training and validation loss')\n",
        "plt.xlabel(\"Epochs\")\n",
        "plt.ylabel(\"Loss\")\n",
        "plt.legend([\"Loss\", \"Validation Loss\"])\n",
        "\n",
        "plt.show()"
      ],
      "metadata": {
        "id": "zu8xMkoRwCTj"
      },
      "execution_count": null,
      "outputs": []
    },
    {
      "cell_type": "markdown",
      "source": [
        "Comparaison des deux modèles"
      ],
      "metadata": {
        "id": "STQFtiICm7Y7"
      }
    },
    {
      "cell_type": "code",
      "source": [
        "#------------------------------------------------\n",
        "# Plot training and validation accuracy per epoch\n",
        "#------------------------------------------------\n",
        "plt.plot(epochs, val_acc_emb, 'r', label='Pretrain')\n",
        "plt.plot(epochs, val_acc, 'b', label='Train')\n",
        "plt.title('Validation accuracy')\n",
        "plt.xlabel(\"Epochs\")\n",
        "plt.ylabel(\"Accuracy\")\n",
        "plt.legend()\n",
        "\n",
        "plt.show()\n",
        "\n",
        "#------------------------------------------------\n",
        "# Plot training and validation loss per epoch\n",
        "#------------------------------------------------\n",
        "plt.plot(epochs, val_loss_emb, 'r', label='Pretrain')\n",
        "plt.plot(epochs, val_loss, 'b', label='Train')\n",
        "plt.title('Validation loss')\n",
        "plt.xlabel(\"Epochs\")\n",
        "plt.ylabel(\"Loss\")\n",
        "plt.legend()\n",
        "\n",
        "plt.show()"
      ],
      "metadata": {
        "id": "g6LKc02uyHwQ"
      },
      "execution_count": null,
      "outputs": []
    },
    {
      "cell_type": "markdown",
      "source": [
        "# Tentative de modèle par génération de donnée d'entrainement avec stratified"
      ],
      "metadata": {
        "id": "U-BDaCuQIdb4"
      }
    },
    {
      "cell_type": "markdown",
      "source": [
        "Le stratified aurait servi"
      ],
      "metadata": {
        "id": "2lVB_4oqXt1B"
      }
    },
    {
      "cell_type": "code",
      "source": [
        "def create_model() :\n",
        "  tf.keras.utils.set_random_seed(123)\n",
        "  model = Sequential(\n",
        "      [\n",
        "          tf.keras.layers.Embedding(input_dim=vocab_size+1, output_dim=embedding_dim, input_length=max_length , weights=[embeddings_matrix], trainable=False),\n",
        "          tf.keras.layers.GRU(64),\n",
        "          tf.keras.layers.Dense(1,activation='sigmoid'),\n",
        "      ]\n",
        "  )\n",
        "  model_emb.compile(loss='binary_crossentropy',optimizer=Adam(learning_rate=0.001),metrics=['accuracy'])\n",
        "  return model\n"
      ],
      "metadata": {
        "id": "_pMNOZC9J6nc"
      },
      "execution_count": null,
      "outputs": []
    },
    {
      "cell_type": "code",
      "source": [
        "def train_model(model, xtrain, ytrain, xval, yval):\n",
        "  history = model.fit(xtrain, ytrain, epochs=num_epochs, \n",
        "                      validation_data=(x_test, y_test),\n",
        "                      batch_size = 32,\n",
        "                      verbose=1,\n",
        "                    callbacks=[save_model2],)\n",
        "  return history"
      ],
      "metadata": {
        "id": "tZ2YtWJuLcYf"
      },
      "execution_count": null,
      "outputs": []
    },
    {
      "cell_type": "code",
      "source": [
        "from sklearn.model_selection import StratifiedKFold\n",
        "from tensorflow.keras.utils import to_categorical\n",
        "\n",
        "# Instantiate the cross validator\n",
        "skf = StratifiedKFold(n_splits=10, shuffle=True)\n",
        "# Loop through the indices the split() method returns\n",
        "y = data.iloc[:,2:8]\n",
        "print(y[:])\n",
        "y= [[elm[\"toxic\"], elm[\"severe_toxic\"], elm[\"obscene\"], elm[\"threat\"], elm[\"insult\"], elm[\"identity_hate\"]] for index, elm in y.iterrows()]\n",
        "\n",
        "# On a eu un problème sur la mise en forme de la donnée ICI \n",
        "\n",
        "for index, (train_indices, val_indices) in enumerate(skf.split(x,y)):\n",
        "    print(\"Training on fold \" + str(index+1) + \"/10...\")\n",
        "    # Generate batches from indices\n",
        "    xtrain, xval = x[train_indices], x[val_indices]\n",
        "    ytrain, yval = y[train_indices], y[val_indices]\n",
        "    # Clear model, and create it\n",
        "    model = None\n",
        "    model = create_model()\n",
        "    \n",
        "    # Debug message I guess\n",
        "    # print \"Training new iteration on \" + str(xtrain.shape[0]) + \" training samples, \" + str(xval.shape[0]) + \" validation samples, this may be a while...\"\n",
        "    \n",
        "    history = train_model(model, xtrain, ytrain, xval, yval)\n",
        "    accuracy_history = history.history['acc']\n",
        "    val_accuracy_history = history.history['val_acc']\n",
        "    print(\"Last training accuracy: \" + str(accuracy_history[-1]) + \", last validation accuracy: \" + str(val_accuracy_history[-1]))"
      ],
      "metadata": {
        "id": "prStBn1TIqlP"
      },
      "execution_count": null,
      "outputs": []
    }
  ]
}